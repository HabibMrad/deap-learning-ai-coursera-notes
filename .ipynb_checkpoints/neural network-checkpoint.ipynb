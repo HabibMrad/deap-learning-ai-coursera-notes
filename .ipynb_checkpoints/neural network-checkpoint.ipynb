{
 "cells": [
  {
   "cell_type": "code",
   "execution_count": 1,
   "metadata": {
    "collapsed": true,
    "deletable": true,
    "editable": true
   },
   "outputs": [],
   "source": [
    "import numpy as np\n",
    "from sklearn.datasets import load_iris\n",
    "from sklearn.model_selection import train_test_split\n",
    "import matplotlib.pyplot as plt"
   ]
  },
  {
   "cell_type": "code",
   "execution_count": 2,
   "metadata": {
    "collapsed": false,
    "deletable": true,
    "editable": true
   },
   "outputs": [],
   "source": [
    "dataset = load_iris()"
   ]
  },
  {
   "cell_type": "code",
   "execution_count": 3,
   "metadata": {
    "collapsed": false,
    "deletable": true,
    "editable": true
   },
   "outputs": [
    {
     "data": {
      "text/plain": [
       "((150, 4), (150, 3))"
      ]
     },
     "execution_count": 3,
     "metadata": {},
     "output_type": "execute_result"
    }
   ],
   "source": [
    "X = dataset['data']\n",
    "\n",
    "Y = np.zeros((len(dataset['target']), 3))\n",
    "Y[np.arange(len(dataset['target'])), dataset['target']] = 1\n",
    "\n",
    "X.shape, Y.shape"
   ]
  },
  {
   "cell_type": "code",
   "execution_count": 4,
   "metadata": {
    "collapsed": false,
    "deletable": true,
    "editable": true
   },
   "outputs": [
    {
     "data": {
      "text/plain": [
       "[(4, 112), (4, 38), (3, 112), (3, 38)]"
      ]
     },
     "execution_count": 4,
     "metadata": {},
     "output_type": "execute_result"
    }
   ],
   "source": [
    "train_x, test_x, train_y, test_y = [np.array(M.T) for M in train_test_split(X, Y, random_state=1)]\n",
    "[m.shape for m in (train_x, test_x, train_y, test_y)]"
   ]
  },
  {
   "cell_type": "markdown",
   "metadata": {
    "deletable": true,
    "editable": true
   },
   "source": [
    "Shallow neural network, with one hidden layer and an output layer, using relu activation function for hidden layer and sigmoid activation for output layer."
   ]
  },
  {
   "cell_type": "markdown",
   "metadata": {
    "deletable": true,
    "editable": true
   },
   "source": [
    "$$\n",
    "\\mathbf{z} = \\mathbf{w}\\mathbf{x} + \\mathbf{b}\n",
    "$$\n",
    "\n",
    "$$\n",
    "\\mathbf{a} = \\frac{1}{1 + e^{-\\mathbf{z}}}\n",
    "$$"
   ]
  },
  {
   "cell_type": "code",
   "execution_count": 5,
   "metadata": {
    "collapsed": false,
    "deletable": true,
    "editable": true
   },
   "outputs": [
    {
     "data": {
      "text/plain": [
       "array([[ 6.5],\n",
       "       [ 2.8],\n",
       "       [ 4.6],\n",
       "       [ 1.5]])"
      ]
     },
     "execution_count": 5,
     "metadata": {},
     "output_type": "execute_result"
    }
   ],
   "source": [
    "x = train_x[:,:1]\n",
    "x"
   ]
  },
  {
   "cell_type": "code",
   "execution_count": 6,
   "metadata": {
    "collapsed": false,
    "deletable": true,
    "editable": true
   },
   "outputs": [
    {
     "data": {
      "text/plain": [
       "array([[ 0.],\n",
       "       [ 1.],\n",
       "       [ 0.]])"
      ]
     },
     "execution_count": 6,
     "metadata": {},
     "output_type": "execute_result"
    }
   ],
   "source": [
    "y = train_y[:,:1]\n",
    "y"
   ]
  },
  {
   "cell_type": "code",
   "execution_count": 7,
   "metadata": {
    "collapsed": false,
    "deletable": true,
    "editable": true
   },
   "outputs": [
    {
     "data": {
      "text/plain": [
       "array([[ 1.62434536, -0.61175641, -0.52817175, -1.07296862],\n",
       "       [ 0.86540763, -2.3015387 ,  1.74481176, -0.7612069 ],\n",
       "       [ 0.3190391 , -0.24937038,  1.46210794, -2.06014071]])"
      ]
     },
     "execution_count": 7,
     "metadata": {},
     "output_type": "execute_result"
    }
   ],
   "source": [
    "np.random.seed(1)\n",
    "w = np.random.randn(y.shape[0], x.shape[0])\n",
    "w"
   ]
  },
  {
   "cell_type": "code",
   "execution_count": 8,
   "metadata": {
    "collapsed": false,
    "deletable": true,
    "editable": true
   },
   "outputs": [
    {
     "data": {
      "text/plain": [
       "array([[ 0.],\n",
       "       [ 0.],\n",
       "       [ 0.]])"
      ]
     },
     "execution_count": 8,
     "metadata": {},
     "output_type": "execute_result"
    }
   ],
   "source": [
    "b = np.zeros((y.shape[0], 1))\n",
    "b"
   ]
  },
  {
   "cell_type": "code",
   "execution_count": 9,
   "metadata": {
    "collapsed": false,
    "deletable": true,
    "editable": true
   },
   "outputs": [
    {
     "data": {
      "text/plain": [
       "array([[ 4.80628391],\n",
       "       [ 6.065165  ],\n",
       "       [ 5.01100252]])"
      ]
     },
     "execution_count": 9,
     "metadata": {},
     "output_type": "execute_result"
    }
   ],
   "source": [
    "z = np.dot(w,x) + b\n",
    "z"
   ]
  },
  {
   "cell_type": "markdown",
   "metadata": {
    "deletable": true,
    "editable": true
   },
   "source": [
    "$$\n",
    "\\mathbf{z} = \\\n",
    "\\mathbf{w}\\mathbf{x} + \\mathbf{b} = \\\n",
    "\\begin{bmatrix}\n",
    "1.62434536 & -0.61175641 & -0.52817175 & -1.07296862 \\\\\n",
    "0.86540763 & -2.3015387 & 1.74481176 & -0.7612069 \\\\\n",
    "0.3190391 & -0.24937038 & 1.46210794 & -2.06014071\n",
    "\\end{bmatrix} \\\n",
    "\\begin{bmatrix}\n",
    "6.5 \\\\ 2.8 \\\\ 4.6 \\\\ 1.5\n",
    "\\end{bmatrix} + \\\n",
    "\\begin{bmatrix}\n",
    "0 \\\\ 0 \\\\ 0\n",
    "\\end{bmatrix} = \\\n",
    "\\begin{bmatrix}\n",
    "4.80628391 \\\\ 6.065165 \\\\ 5.01100252\n",
    "\\end{bmatrix}\n",
    "$$"
   ]
  },
  {
   "cell_type": "markdown",
   "metadata": {
    "deletable": true,
    "editable": true
   },
   "source": [
    "$$\n",
    "a = g(\\mathbf{z}) = \\sigma(\\mathbf{z}) = \\frac{1}{1 + e^{-\\mathbf{z}}}\n",
    "$$"
   ]
  },
  {
   "cell_type": "code",
   "execution_count": 10,
   "metadata": {
    "collapsed": true,
    "deletable": true,
    "editable": true
   },
   "outputs": [],
   "source": [
    "sigmoid = lambda z: 1 / (1 + np.exp(-z))"
   ]
  },
  {
   "cell_type": "code",
   "execution_count": 11,
   "metadata": {
    "collapsed": false,
    "deletable": true,
    "editable": true
   },
   "outputs": [
    {
     "data": {
      "image/png": "[encoded data removed]",
      "text/plain": [
       "<matplotlib.figure.Figure at 0x10441e908>"
      ]
     },
     "metadata": {},
     "output_type": "display_data"
    }
   ],
   "source": [
    "plt.plot(np.linspace(-5,5,100), sigmoid(np.linspace(-5,5,100)))\n",
    "plt.show()"
   ]
  },
  {
   "cell_type": "code",
   "execution_count": 12,
   "metadata": {
    "collapsed": false,
    "deletable": true,
    "editable": true
   },
   "outputs": [
    {
     "data": {
      "text/plain": [
       "array([[ 0.99188815],\n",
       "       [ 0.99768301],\n",
       "       [ 0.9933799 ]])"
      ]
     },
     "execution_count": 12,
     "metadata": {},
     "output_type": "execute_result"
    }
   ],
   "source": [
    "yHat = sigmoid(z)\n",
    "yHat"
   ]
  },
  {
   "cell_type": "markdown",
   "metadata": {
    "deletable": true,
    "editable": true
   },
   "source": [
    "$$\n",
    "a = g(\\mathbf{z}) = \\sigma(\\mathbf{z}) = \\sigma \\Bigg( \\\n",
    "\\begin{bmatrix}\n",
    "4.80628391 \\\\ 6.065165 \\\\ 5.01100252\n",
    "\\end{bmatrix} \\Bigg) = \\\n",
    "\\begin{bmatrix}\n",
    "0.99188815 \\\\ 0.99768301 \\\\0.9933799\n",
    "\\end{bmatrix} \\neq \\\n",
    "\\begin{bmatrix}\n",
    "0.0 \\\\ 1.0 \\\\ 0.0\n",
    "\\end{bmatrix}\n",
    "$$"
   ]
  },
  {
   "cell_type": "markdown",
   "metadata": {
    "deletable": true,
    "editable": true
   },
   "source": [
    "$$\n",
    "\\mathcal{L}(\\mathbf{y}, \\mathbf{\\hat{y}}) = -\\sum_{i=1}^{c} \\mathbf{y}_i\\log{\\mathbf{\\hat{y}}_i} + (1-\\mathbf{y}_i)\\log{(1-\\mathbf{\\hat{y}}_i)}\n",
    "$$"
   ]
  },
  {
   "cell_type": "code",
   "execution_count": 13,
   "metadata": {
    "collapsed": false,
    "deletable": true,
    "editable": true
   },
   "outputs": [],
   "source": [
    "loss = lambda y, yHat: -np.sum((y * np.log(yHat) + (1-y) * np.log(1-yHat)))"
   ]
  },
  {
   "cell_type": "code",
   "execution_count": 14,
   "metadata": {
    "collapsed": false,
    "deletable": true,
    "editable": true
   },
   "outputs": [
    {
     "data": {
      "text/plain": [
       "2.1000100500604738e-05"
      ]
     },
     "execution_count": 14,
     "metadata": {},
     "output_type": "execute_result"
    }
   ],
   "source": [
    "# sanity check 1: should be small for close matches\n",
    "loss(y, np.array([0.00001,0.99999,0.000001]).reshape(3,1))"
   ]
  },
  {
   "cell_type": "code",
   "execution_count": 15,
   "metadata": {
    "collapsed": false,
    "deletable": true,
    "editable": true
   },
   "outputs": [
    {
     "data": {
      "text/plain": [
       "36.841361487913829"
      ]
     },
     "execution_count": 15,
     "metadata": {},
     "output_type": "execute_result"
    }
   ],
   "source": [
    "# sanity check 2: should be large for poor matches\n",
    "loss(y, np.array([0.99999,0.000001,0.99999]).reshape(3,1))"
   ]
  },
  {
   "cell_type": "code",
   "execution_count": 16,
   "metadata": {
    "collapsed": false,
    "deletable": true,
    "editable": true
   },
   "outputs": [
    {
     "data": {
      "text/plain": [
       "9.8343931585616957"
      ]
     },
     "execution_count": 16,
     "metadata": {},
     "output_type": "execute_result"
    }
   ],
   "source": [
    "loss(y, yHat)"
   ]
  },
  {
   "cell_type": "markdown",
   "metadata": {
    "deletable": true,
    "editable": true
   },
   "source": [
    "## Derivatives"
   ]
  },
  {
   "cell_type": "markdown",
   "metadata": {
    "deletable": true,
    "editable": true
   },
   "source": [
    "$$\n",
    "\\frac{\\delta \\mathcal{L}}{\\delta \\mathbf{w}} = \\\n",
    "\\frac{\\delta \\mathcal{L}}{\\delta \\mathbf{\\hat{y}}} \\cdot \\\n",
    "\\frac{\\delta \\mathbf{\\hat{y}}}{\\delta \\mathbf{z}} \\cdot \\frac{\\delta \\mathbf{z}}{\\delta \\mathbf{w}} \n",
    "$$\n",
    "\n",
    "$$\n",
    "\\frac{\\delta \\mathcal{L}}{\\delta \\mathbf{b}} = \\\n",
    "\\frac{\\delta \\mathcal{L}}{\\delta \\mathbf{\\hat{y}}} \\cdot \\\n",
    "\\frac{\\delta \\mathbf{\\hat{y}}}{\\delta z} \\cdot \\frac{\\delta z}{\\delta b} \n",
    "$$"
   ]
  },
  {
   "cell_type": "markdown",
   "metadata": {
    "deletable": true,
    "editable": true
   },
   "source": [
    "$$\n",
    "\\frac{\\delta \\mathcal{L}}{\\delta \\mathbf{\\hat{y}}} = \\\n",
    "\\frac{\\delta \\mathcal{L}}{\\delta \\mathbf{a}} = \\\n",
    "- \\frac{\\delta}{\\delta \\mathbf{a}} \\Big[ \\\n",
    "\\mathbf{y}\\log{\\mathbf{a}} + (1-\\mathbf{y})\\log{(1-\\mathbf{a})} \\\n",
    "\\Big]\n",
    "$$"
   ]
  },
  {
   "cell_type": "markdown",
   "metadata": {
    "deletable": true,
    "editable": true
   },
   "source": [
    "$$\n",
    "= \\frac{-\\mathbf{y}}{\\mathbf{\\hat{y}}} + \\frac{1-\\mathbf{y}}{1-\\mathbf{\\hat{y}}}\n",
    "$$"
   ]
  },
  {
   "cell_type": "markdown",
   "metadata": {
    "deletable": true,
    "editable": true
   },
   "source": [
    "## Derivative of Loss with respect to a"
   ]
  },
  {
   "cell_type": "code",
   "execution_count": 17,
   "metadata": {
    "collapsed": true,
    "deletable": true,
    "editable": true
   },
   "outputs": [],
   "source": [
    "dLda = lambda y, yHat: - (y / yHat) + ((1-y) / (1-yHat))"
   ]
  },
  {
   "cell_type": "code",
   "execution_count": 18,
   "metadata": {
    "collapsed": false,
    "deletable": true,
    "editable": true
   },
   "outputs": [
    {
     "data": {
      "text/plain": [
       "array([[ 123.27638239],\n",
       "       [  -1.00232237],\n",
       "       [ 151.05509388]])"
      ]
     },
     "execution_count": 18,
     "metadata": {},
     "output_type": "execute_result"
    }
   ],
   "source": [
    "da = dLda(y, yHat)\n",
    "da"
   ]
  },
  {
   "cell_type": "code",
   "execution_count": 19,
   "metadata": {
    "collapsed": true
   },
   "outputs": [],
   "source": [
    "def numeric_gradient(X, fn, epsilon = 1e-7):\n",
    "    gradients = np.zeros(X.shape)\n",
    "    \n",
    "    for i in range(X.shape[0]):\n",
    "        for j in range(X.shape[1]):\n",
    "            plus, minus = [np.copy(X), np.copy(X)]\n",
    "            plus[i,j] += epsilon\n",
    "            minus[i,j] -= epsilon\n",
    "            gradients[i,j] = (fn(plus) - fn(minus)) / (2 * epsilon)\n",
    "            \n",
    "    return gradients"
   ]
  },
  {
   "cell_type": "code",
   "execution_count": 20,
   "metadata": {
    "collapsed": false,
    "deletable": true,
    "editable": true
   },
   "outputs": [
    {
     "data": {
      "text/plain": [
       "array([[ 123.27638233],\n",
       "       [  -1.00232238],\n",
       "       [ 151.05509381]])"
      ]
     },
     "execution_count": 20,
     "metadata": {},
     "output_type": "execute_result"
    }
   ],
   "source": [
    "da_numeric = numeric_gradient(yHat, lambda yHat: loss(y,yHat))\n",
    "da_numeric"
   ]
  },
  {
   "cell_type": "code",
   "execution_count": 21,
   "metadata": {
    "collapsed": false,
    "deletable": true,
    "editable": true
   },
   "outputs": [],
   "source": [
    "distance = lambda a, b: np.sqrt(np.sum((a - b) ** 2))"
   ]
  },
  {
   "cell_type": "code",
   "execution_count": 22,
   "metadata": {
    "collapsed": false,
    "deletable": true,
    "editable": true
   },
   "outputs": [
    {
     "data": {
      "text/plain": [
       "9.2303476194109719e-08"
      ]
     },
     "execution_count": 22,
     "metadata": {},
     "output_type": "execute_result"
    }
   ],
   "source": [
    "distance(da, da_numeric)"
   ]
  },
  {
   "cell_type": "markdown",
   "metadata": {
    "deletable": true,
    "editable": true
   },
   "source": [
    "## Derivative of Loss with respect to z"
   ]
  },
  {
   "cell_type": "markdown",
   "metadata": {
    "deletable": true,
    "editable": true
   },
   "source": [
    "$$\n",
    "\\frac{\\delta \\mathbf{\\hat{y}}}{\\delta \\mathbf{z}} = \\\n",
    "\\frac{\\delta}{\\delta \\mathbf{z}} \\sigma(\\mathbf{z}) = \\\n",
    "\\frac{\\delta}{\\delta \\mathbf{z}} \\Bigg( \\frac{1}{1 + e^{-\\mathbf{z}}} \\Bigg)\n",
    "$$"
   ]
  },
  {
   "cell_type": "markdown",
   "metadata": {
    "deletable": true,
    "editable": true
   },
   "source": [
    "$$\n",
    "= \\\n",
    "\\Big(\\frac{-1}{1 + e^{-\\mathbf{z}}}\\Big)^{2} \\cdot (e^{-\\mathbf{z}}) \\cdot -1 = \\\n",
    "\\frac{e^{-\\mathbf{z}}}{({1 + e^{-\\mathbf{z}}})^2} \n",
    "$$"
   ]
  },
  {
   "cell_type": "markdown",
   "metadata": {
    "deletable": true,
    "editable": true
   },
   "source": [
    "$$\n",
    "= \\frac{1 - 1 + e^{-\\mathbf{z}}}{(1 + e^{-\\mathbf{z}})(1 + e^{-\\mathbf{z}})}  = \\\n",
    "\\frac{1}{1 + e^{-\\mathbf{z}}} \\cdot \\frac{1 - 1 + e^{-\\mathbf{z}}}{1 + e^{-\\mathbf{z}}}\n",
    "$$"
   ]
  },
  {
   "cell_type": "markdown",
   "metadata": {
    "deletable": true,
    "editable": true
   },
   "source": [
    "$$\n",
    "= \\\n",
    "\\frac{1}{1 + e^{-\\mathbf{z}}} \\Big(\\frac{1}{1 + e^{-\\mathbf{z}}} - \\frac{1 + e^{-\\mathbf{z}}}{1 + e^{-\\mathbf{z}}}\\Big)\n",
    "$$"
   ]
  },
  {
   "cell_type": "markdown",
   "metadata": {
    "deletable": true,
    "editable": true
   },
   "source": [
    "$$\n",
    "= \\sigma(\\mathbf{z}) \\big(1-\\sigma(\\mathbf{z})\\big)\n",
    "$$\n",
    "\n",
    "$$\n",
    "= \\mathbf{\\hat{y}}(1-\\mathbf{\\hat{y}})\n",
    "$$"
   ]
  },
  {
   "cell_type": "markdown",
   "metadata": {
    "deletable": true,
    "editable": true
   },
   "source": [
    "now for the cool part:\n"
   ]
  },
  {
   "cell_type": "markdown",
   "metadata": {
    "deletable": true,
    "editable": true
   },
   "source": [
    "$$\n",
    "\\frac{\\delta \\mathcal{L}}{\\mathbf{z}} = \\\n",
    "\\frac{\\delta \\mathcal{L}}{\\delta \\mathbf{\\hat{y}}} \\cdot \\\n",
    "\\frac{\\delta \\mathbf{\\hat{y}}}{\\delta \\mathbf{z}}\n",
    "$$"
   ]
  },
  {
   "cell_type": "markdown",
   "metadata": {
    "deletable": true,
    "editable": true
   },
   "source": [
    "$$\n",
    "= \\Big( \\frac{-\\mathbf{y}}{\\mathbf{\\hat{y}}} + \\frac{1-\\mathbf{y}}{1-\\mathbf{\\hat{y}}} \\Big)\\\n",
    "\\mathbf{\\hat{y}}(1-\\mathbf{\\hat{y}})\n",
    "$$"
   ]
  },
  {
   "cell_type": "markdown",
   "metadata": {
    "deletable": true,
    "editable": true
   },
   "source": [
    "$$\n",
    "= \\Big(\\frac{-\\mathbf{y}(1-\\mathbf{\\hat{y}}) + \\mathbf{\\hat{y}}(1-\\mathbf{y})}{\\mathbf{\\hat{y}}(1-\\mathbf{\\hat{y}})} \\Big)\\\n",
    "\\mathbf{\\hat{y}}(1-\\mathbf{\\hat{y}})\n",
    "$$"
   ]
  },
  {
   "cell_type": "markdown",
   "metadata": {
    "deletable": true,
    "editable": true
   },
   "source": [
    "$$\n",
    "= -\\mathbf{y}(1-\\mathbf{\\hat{y}}) + \\mathbf{\\hat{y}}(1-\\mathbf{y}) \n",
    "$$"
   ]
  },
  {
   "cell_type": "markdown",
   "metadata": {
    "deletable": true,
    "editable": true
   },
   "source": [
    "$$\n",
    "= -\\mathbf{y}+\\mathbf{y}\\mathbf{\\hat{y}} + \\mathbf{\\hat{y}}-\\mathbf{\\hat{y}}\\mathbf{y}\n",
    "$$\n",
    "\n",
    "$$\n",
    "= \\mathbf{\\hat{y}} - \\mathbf{y}\n",
    "$$"
   ]
  },
  {
   "cell_type": "markdown",
   "metadata": {
    "deletable": true,
    "editable": true
   },
   "source": [
    "Awesome news: we don't even need the dLda! can compute both steps in the chain in a single step here. Boom."
   ]
  },
  {
   "cell_type": "code",
   "execution_count": 23,
   "metadata": {
    "collapsed": true,
    "deletable": true,
    "editable": true
   },
   "outputs": [],
   "source": [
    "dLdz = lambda y, yHat: yHat - y"
   ]
  },
  {
   "cell_type": "code",
   "execution_count": 24,
   "metadata": {
    "collapsed": false,
    "deletable": true,
    "editable": true
   },
   "outputs": [
    {
     "data": {
      "text/plain": [
       "array([[ 0.99188815],\n",
       "       [-0.00231699],\n",
       "       [ 0.9933799 ]])"
      ]
     },
     "execution_count": 24,
     "metadata": {},
     "output_type": "execute_result"
    }
   ],
   "source": [
    "dz = dLdz(y,yHat)\n",
    "dz"
   ]
  },
  {
   "cell_type": "code",
   "execution_count": 25,
   "metadata": {
    "collapsed": false,
    "deletable": true,
    "editable": true
   },
   "outputs": [
    {
     "data": {
      "text/plain": [
       "array([[ 0.99188821],\n",
       "       [-0.002317  ],\n",
       "       [ 0.99337994]])"
      ]
     },
     "execution_count": 25,
     "metadata": {},
     "output_type": "execute_result"
    }
   ],
   "source": [
    "dz_numeric = numeric_gradient(z, lambda z: loss(y, sigmoid(z)))\n",
    "dz_numeric"
   ]
  },
  {
   "cell_type": "code",
   "execution_count": 26,
   "metadata": {
    "collapsed": false,
    "deletable": true,
    "editable": true
   },
   "outputs": [
    {
     "data": {
      "text/plain": [
       "7.2898331284372404e-08"
      ]
     },
     "execution_count": 26,
     "metadata": {},
     "output_type": "execute_result"
    }
   ],
   "source": [
    "distance(dz, dz_numeric) "
   ]
  },
  {
   "cell_type": "markdown",
   "metadata": {
    "deletable": true,
    "editable": true
   },
   "source": [
    "## Derivative of loss with respect to w"
   ]
  },
  {
   "cell_type": "markdown",
   "metadata": {
    "deletable": true,
    "editable": true
   },
   "source": [
    "$$\n",
    "\\frac{\\delta \\mathbf{z}}{\\delta \\mathbf{w}} = \\\n",
    "\\frac{\\delta}{\\delta \\mathbf{w}} \\mathbf{w}\\mathbf{x} + \\mathbf{b} = \\mathbf{x}\n",
    "$$"
   ]
  },
  {
   "cell_type": "markdown",
   "metadata": {
    "deletable": true,
    "editable": true
   },
   "source": [
    "$$\n",
    "\\frac{\\delta \\mathcal{L}}{\\delta \\mathbf{w}} = \\\n",
    "\\frac{\\delta \\mathcal{L}}{\\delta \\mathbf{z}} \\cdot \\frac{\\delta \\mathbf{z}}{\\delta \\mathbf{w}} = \\\n",
    "\\frac{\\delta \\mathcal{L}}{\\delta \\mathbf{z}} \\cdot \\mathbf{x}\n",
    "$$"
   ]
  },
  {
   "cell_type": "code",
   "execution_count": 27,
   "metadata": {
    "collapsed": false,
    "deletable": true,
    "editable": true
   },
   "outputs": [
    {
     "data": {
      "text/plain": [
       "((3, 4), (3, 1), (4, 1))"
      ]
     },
     "execution_count": 27,
     "metadata": {},
     "output_type": "execute_result"
    }
   ],
   "source": [
    "w.shape, da.shape, x.shape, "
   ]
  },
  {
   "cell_type": "code",
   "execution_count": 28,
   "metadata": {
    "collapsed": true,
    "deletable": true,
    "editable": true
   },
   "outputs": [],
   "source": [
    "# need to transpose the x to get the shapes correct\n",
    "dLdw = lambda dz, x: np.dot(dz, x.T)"
   ]
  },
  {
   "cell_type": "code",
   "execution_count": 29,
   "metadata": {
    "collapsed": false,
    "deletable": true,
    "editable": true
   },
   "outputs": [
    {
     "data": {
      "text/plain": [
       "array([[  6.44727295e+00,   2.77728681e+00,   4.56268547e+00,\n",
       "          1.48783222e+00],\n",
       "       [ -1.50604601e-02,  -6.48758279e-03,  -1.06581717e-02,\n",
       "         -3.47549078e-03],\n",
       "       [  6.45696934e+00,   2.78146372e+00,   4.56954753e+00,\n",
       "          1.49006985e+00]])"
      ]
     },
     "execution_count": 29,
     "metadata": {},
     "output_type": "execute_result"
    }
   ],
   "source": [
    "dw = dLdw(dz, x)\n",
    "dw"
   ]
  },
  {
   "cell_type": "code",
   "execution_count": 30,
   "metadata": {
    "collapsed": false,
    "deletable": true,
    "editable": true
   },
   "outputs": [
    {
     "data": {
      "text/plain": [
       "array([[  6.44727294e+00,   2.77728668e+00,   4.56268543e+00,\n",
       "          1.48783227e+00],\n",
       "       [ -1.50604507e-02,  -6.48757492e-03,  -1.06581766e-02,\n",
       "         -3.47548657e-03],\n",
       "       [  6.45696936e+00,   2.78146365e+00,   4.56954752e+00,\n",
       "          1.49006977e+00]])"
      ]
     },
     "execution_count": 30,
     "metadata": {},
     "output_type": "execute_result"
    }
   ],
   "source": [
    "dw_numeric = numeric_gradient(w, lambda w: loss(y, sigmoid(np.dot(w,x) + b)))\n",
    "dw_numeric"
   ]
  },
  {
   "cell_type": "code",
   "execution_count": 31,
   "metadata": {
    "collapsed": false,
    "deletable": true,
    "editable": true
   },
   "outputs": [
    {
     "data": {
      "text/plain": [
       "1.81564089107234e-07"
      ]
     },
     "execution_count": 31,
     "metadata": {},
     "output_type": "execute_result"
    }
   ],
   "source": [
    "distance(dw, dw_numeric) "
   ]
  },
  {
   "cell_type": "markdown",
   "metadata": {
    "deletable": true,
    "editable": true
   },
   "source": [
    "## Derivative of Loss with respect to b"
   ]
  },
  {
   "cell_type": "markdown",
   "metadata": {
    "deletable": true,
    "editable": true
   },
   "source": [
    "\n",
    "$$\n",
    "\\frac{\\delta \\mathbf{z}}{\\delta \\mathbf{b}} = \\\n",
    "\\frac{\\delta}{\\delta \\mathbf{b}} \\mathbf{w}\\mathbf{x} + \\mathbf{b} = 1\n",
    "$$"
   ]
  },
  {
   "cell_type": "markdown",
   "metadata": {
    "deletable": true,
    "editable": true
   },
   "source": [
    "$$\n",
    "\\frac{\\delta \\mathcal{L}}{\\delta \\mathbf{b}} = \\\n",
    "\\frac{\\delta \\mathcal{L}}{\\delta \\mathbf{z}} \\cdot \\frac{\\delta \\mathbf{z}}{\\delta \\mathbf{b}} = \\\n",
    "\\frac{\\delta \\mathcal{L}}{\\delta \\mathbf{z}}\n",
    "$$"
   ]
  },
  {
   "cell_type": "code",
   "execution_count": 32,
   "metadata": {
    "collapsed": true,
    "deletable": true,
    "editable": true
   },
   "outputs": [],
   "source": [
    "dLdb = lambda dz: dz"
   ]
  },
  {
   "cell_type": "code",
   "execution_count": 33,
   "metadata": {
    "collapsed": false,
    "deletable": true,
    "editable": true
   },
   "outputs": [
    {
     "data": {
      "text/plain": [
       "array([[ 0.99188815],\n",
       "       [-0.00231699],\n",
       "       [ 0.9933799 ]])"
      ]
     },
     "execution_count": 33,
     "metadata": {},
     "output_type": "execute_result"
    }
   ],
   "source": [
    "db = dLdb(dz)\n",
    "db"
   ]
  },
  {
   "cell_type": "code",
   "execution_count": null,
   "metadata": {
    "collapsed": false,
    "deletable": true,
    "editable": true
   },
   "outputs": [],
   "source": []
  },
  {
   "cell_type": "code",
   "execution_count": 34,
   "metadata": {
    "collapsed": false,
    "deletable": true,
    "editable": true
   },
   "outputs": [
    {
     "data": {
      "text/plain": [
       "array([[ 0.99188821],\n",
       "       [-0.002317  ],\n",
       "       [ 0.99337994]])"
      ]
     },
     "execution_count": 34,
     "metadata": {},
     "output_type": "execute_result"
    }
   ],
   "source": [
    "db_numeric = numeric_gradient(b, lambda b: loss(y, sigmoid(np.dot(w,x) + b)))\n",
    "db_numeric"
   ]
  },
  {
   "cell_type": "code",
   "execution_count": 35,
   "metadata": {
    "collapsed": false,
    "deletable": true,
    "editable": true
   },
   "outputs": [
    {
     "data": {
      "text/plain": [
       "7.2898331284372404e-08"
      ]
     },
     "execution_count": 35,
     "metadata": {},
     "output_type": "execute_result"
    }
   ],
   "source": [
    "distance(db, db_numeric)"
   ]
  },
  {
   "cell_type": "markdown",
   "metadata": {
    "deletable": true,
    "editable": true
   },
   "source": [
    "## Gradient descent"
   ]
  },
  {
   "cell_type": "code",
   "execution_count": 36,
   "metadata": {
    "collapsed": true,
    "deletable": true,
    "editable": true
   },
   "outputs": [],
   "source": [
    "def forward(x,w,b):\n",
    "    z = np.dot(w,x) + b\n",
    "    a = sigmoid(z)\n",
    "    return z, a\n",
    "\n",
    "def backward(x, y, yhat):\n",
    "    dz = yhat - y\n",
    "    dw = np.dot(dz, x.T)\n",
    "    db = dz\n",
    "    return dw, db"
   ]
  },
  {
   "cell_type": "code",
   "execution_count": 37,
   "metadata": {
    "collapsed": false,
    "deletable": true,
    "editable": true
   },
   "outputs": [
    {
     "name": "stdout",
     "output_type": "stream",
     "text": [
      "cost at iteration 0: 9.834393158561696\n",
      "cost at iteration 100: 0.002145277411514101\n",
      "cost at iteration 200: 0.0018418749490632118\n",
      "cost at iteration 300: 0.0016451870976112407\n",
      "cost at iteration 400: 0.001471482798500676\n",
      "cost at iteration 500: 0.0013176869921403098\n",
      "cost at iteration 600: 0.0011812120786826466\n",
      "cost at iteration 700: 0.00105986590493878\n",
      "cost at iteration 800: 0.0009517801162295505\n",
      "cost at iteration 900: 0.0008553536043709026\n"
     ]
    },
    {
     "data": {
      "text/plain": [
       "array([[ 0.],\n",
       "       [ 1.],\n",
       "       [ 0.]])"
      ]
     },
     "execution_count": 37,
     "metadata": {},
     "output_type": "execute_result"
    }
   ],
   "source": [
    "epochs = 1000\n",
    "alpha = 0.001\n",
    "_w = np.copy(w)\n",
    "_b = np.copy(b)\n",
    "for i in range(epochs):\n",
    "    z, a = forward(x,_w,_b)\n",
    "    dw, db = backward(x,y,a)\n",
    "    if (i % (epochs / 10) == 0): print(\"cost at iteration {}: {}\".format(i, loss(y,a)))\n",
    "    _w -= alpha * dw\n",
    "    _b -= alpha * da\n",
    "\n",
    "np.round(forward(x,_w,_b)[1])"
   ]
  },
  {
   "cell_type": "markdown",
   "metadata": {
    "deletable": true,
    "editable": true
   },
   "source": [
    "# Batch learning"
   ]
  },
  {
   "cell_type": "code",
   "execution_count": 38,
   "metadata": {
    "collapsed": false
   },
   "outputs": [
    {
     "data": {
      "text/plain": [
       "array([[ 6.5,  6.7],\n",
       "       [ 2.8,  2.5],\n",
       "       [ 4.6,  5.8],\n",
       "       [ 1.5,  1.8]])"
      ]
     },
     "execution_count": 38,
     "metadata": {},
     "output_type": "execute_result"
    }
   ],
   "source": [
    "X = train_x[:,:2]\n",
    "X"
   ]
  },
  {
   "cell_type": "code",
   "execution_count": 39,
   "metadata": {
    "collapsed": false,
    "deletable": true,
    "editable": true
   },
   "outputs": [
    {
     "data": {
      "text/plain": [
       "array([[ 0.,  0.],\n",
       "       [ 1.,  0.],\n",
       "       [ 0.,  1.]])"
      ]
     },
     "execution_count": 39,
     "metadata": {},
     "output_type": "execute_result"
    }
   ],
   "source": [
    "Y = train_y[:,:2]\n",
    "Y"
   ]
  },
  {
   "cell_type": "code",
   "execution_count": 40,
   "metadata": {
    "collapsed": false
   },
   "outputs": [
    {
     "data": {
      "text/plain": [
       "array([[-0.00322417, -0.00384054,  0.01133769, -0.01099891],\n",
       "       [-0.00172428, -0.00877858,  0.00042214,  0.00582815],\n",
       "       [-0.01100619,  0.01144724,  0.00901591,  0.00502494]])"
      ]
     },
     "execution_count": 40,
     "metadata": {},
     "output_type": "execute_result"
    }
   ],
   "source": [
    "W = np.random.randn(Y.shape[0], X.shape[0]) * 0.01\n",
    "W"
   ]
  },
  {
   "cell_type": "code",
   "execution_count": 41,
   "metadata": {
    "collapsed": false
   },
   "outputs": [
    {
     "data": {
      "text/plain": [
       "array([[ 0.],\n",
       "       [ 0.],\n",
       "       [ 0.]])"
      ]
     },
     "execution_count": 41,
     "metadata": {},
     "output_type": "execute_result"
    }
   ],
   "source": [
    "b = np.zeros((3,1))\n",
    "b"
   ]
  },
  {
   "cell_type": "markdown",
   "metadata": {},
   "source": [
    "$$\n",
    "\\mathbf{Z} = \\mathbf{WX} + \\mathbf{b}\n",
    "$$"
   ]
  },
  {
   "cell_type": "code",
   "execution_count": 42,
   "metadata": {
    "collapsed": false
   },
   "outputs": [
    {
     "data": {
      "text/plain": [
       "array([[ 0.00394439,  0.01475727],\n",
       "       [-0.02510381, -0.02056008],\n",
       "       [ 0.00952261,  0.01621377]])"
      ]
     },
     "execution_count": 42,
     "metadata": {},
     "output_type": "execute_result"
    }
   ],
   "source": [
    "Z = np.dot(W, X) + b\n",
    "Z"
   ]
  },
  {
   "cell_type": "markdown",
   "metadata": {},
   "source": [
    "$$\n",
    "\\mathbf{A} = \\sigma(\\mathbf{Z}) = \\frac{1}{1+e^{-\\mathbf{Z}}}\n",
    "$$"
   ]
  },
  {
   "cell_type": "code",
   "execution_count": 43,
   "metadata": {
    "collapsed": false
   },
   "outputs": [
    {
     "data": {
      "text/plain": [
       "array([[ 0.5009861 ,  0.50368925],\n",
       "       [ 0.49372438,  0.49486016],\n",
       "       [ 0.50238063,  0.50405335]])"
      ]
     },
     "execution_count": 43,
     "metadata": {},
     "output_type": "execute_result"
    }
   ],
   "source": [
    "A = 1 / (1 + np.exp(-Z))\n",
    "A"
   ]
  },
  {
   "cell_type": "markdown",
   "metadata": {},
   "source": [
    "$$\n",
    "\\mathcal{L} = -\\frac{1}{m} Y\\log{\\hat{Y}} -(1-Y)\\log{(1-\\hat{Y})}\n",
    "$$"
   ]
  },
  {
   "cell_type": "code",
   "execution_count": 44,
   "metadata": {
    "collapsed": true
   },
   "outputs": [],
   "source": [
    "LOSS = lambda Y, YHat: (-1/Y.shape[1]) * np.sum((Y * np.log(YHat) + (1-Y) * np.log(1-YHat)))"
   ]
  },
  {
   "cell_type": "code",
   "execution_count": 45,
   "metadata": {
    "collapsed": false
   },
   "outputs": [
    {
     "data": {
      "text/plain": [
       "2.0836825850107918"
      ]
     },
     "execution_count": 45,
     "metadata": {},
     "output_type": "execute_result"
    }
   ],
   "source": [
    "LOSS(Y, A)"
   ]
  },
  {
   "cell_type": "code",
   "execution_count": 46,
   "metadata": {
    "collapsed": false
   },
   "outputs": [
    {
     "data": {
      "text/plain": [
       "0.00030001500100004195"
      ]
     },
     "execution_count": 46,
     "metadata": {},
     "output_type": "execute_result"
    }
   ],
   "source": [
    "LOSS(Y, np.array([[0.0001, 0.0001],\n",
    "                  [0.9999, 0.0001],\n",
    "                  [0.0001, 0.9999]]))"
   ]
  },
  {
   "cell_type": "code",
   "execution_count": 47,
   "metadata": {
    "collapsed": false
   },
   "outputs": [
    {
     "data": {
      "text/plain": [
       "27.631021115928768"
      ]
     },
     "execution_count": 47,
     "metadata": {},
     "output_type": "execute_result"
    }
   ],
   "source": [
    "LOSS(Y, np.array([[0.9999, 0.9999],\n",
    "                  [0.0001, 0.9999],\n",
    "                  [0.9999, 0.0001]]))"
   ]
  },
  {
   "cell_type": "markdown",
   "metadata": {},
   "source": [
    "$$\n",
    "\\frac{\\delta \\mathcal{L}}{\\delta \\mathbf{Z}} = \\frac{1}{m}( \\mathbf{\\hat{Y}} - \\mathbf{Y})\n",
    "$$"
   ]
  },
  {
   "cell_type": "code",
   "execution_count": 48,
   "metadata": {
    "collapsed": false
   },
   "outputs": [
    {
     "data": {
      "text/plain": [
       "array([[ 0.25049305,  0.25184463],\n",
       "       [-0.25313781,  0.24743008],\n",
       "       [ 0.25119032, -0.24797332]])"
      ]
     },
     "execution_count": 48,
     "metadata": {},
     "output_type": "execute_result"
    }
   ],
   "source": [
    "dZ = (A - Y) / (Y.shape[1])\n",
    "dZ"
   ]
  },
  {
   "cell_type": "code",
   "execution_count": 49,
   "metadata": {
    "collapsed": false
   },
   "outputs": [
    {
     "data": {
      "text/plain": [
       "array([[ 0.25049305,  0.25184463],\n",
       "       [-0.25313781,  0.24743008],\n",
       "       [ 0.25119032, -0.24797332]])"
      ]
     },
     "execution_count": 49,
     "metadata": {},
     "output_type": "execute_result"
    }
   ],
   "source": [
    "dZ_numeric = numeric_gradient(Z, lambda Z: LOSS(Y, 1 / (1 + np.exp(-Z))))\n",
    "dZ_numeric"
   ]
  },
  {
   "cell_type": "code",
   "execution_count": 50,
   "metadata": {
    "collapsed": false
   },
   "outputs": [
    {
     "data": {
      "text/plain": [
       "3.0500574924496523e-09"
      ]
     },
     "execution_count": 50,
     "metadata": {},
     "output_type": "execute_result"
    }
   ],
   "source": [
    "distance(dZ, dZ_numeric)"
   ]
  },
  {
   "cell_type": "markdown",
   "metadata": {},
   "source": [
    "$$\n",
    "\\frac{\\delta \\mathcal{L}}{\\delta \\mathbf{W}} = \\\n",
    "\\frac{\\delta \\mathcal{L}}{\\delta \\mathbf{Z}} \\cdot \\frac{\\delta \\mathbf{Z}}{\\delta \\mathbf{W}} = \\\n",
    "\\frac{1}{m}(\\mathbf{\\hat{Y}} - \\mathbf{Y})\\mathbf{X}^T\n",
    "$$"
   ]
  },
  {
   "cell_type": "code",
   "execution_count": 51,
   "metadata": {
    "collapsed": false
   },
   "outputs": [
    {
     "data": {
      "text/plain": [
       "((3, 4), (3, 2), (4, 2))"
      ]
     },
     "execution_count": 51,
     "metadata": {},
     "output_type": "execute_result"
    }
   ],
   "source": [
    "w.shape, dZ.shape, X.shape"
   ]
  },
  {
   "cell_type": "code",
   "execution_count": 52,
   "metadata": {
    "collapsed": false
   },
   "outputs": [
    {
     "data": {
      "text/plain": [
       "array([[ 3.3155638 ,  1.3309921 ,  2.61296685,  0.8290599 ],\n",
       "       [ 0.01238577, -0.09021067,  0.27066054,  0.06566743],\n",
       "       [-0.02868421,  0.08339958, -0.28276982, -0.06956651]])"
      ]
     },
     "execution_count": 52,
     "metadata": {},
     "output_type": "execute_result"
    }
   ],
   "source": [
    "dW = np.dot(dZ, X.T)\n",
    "dW"
   ]
  },
  {
   "cell_type": "code",
   "execution_count": 53,
   "metadata": {
    "collapsed": false
   },
   "outputs": [
    {
     "data": {
      "text/plain": [
       "array([[ 3.3155638 ,  1.3309921 ,  2.61296685,  0.8290599 ],\n",
       "       [ 0.01238577, -0.09021067,  0.27066054,  0.06566743],\n",
       "       [-0.02868421,  0.08339958, -0.28276982, -0.06956651]])"
      ]
     },
     "execution_count": 53,
     "metadata": {},
     "output_type": "execute_result"
    }
   ],
   "source": [
    "dW_numeric = numeric_gradient(W, lambda W: LOSS(Y, 1 / (1 + np.exp(-(np.dot(W,X) + b)))))\n",
    "dW_numeric"
   ]
  },
  {
   "cell_type": "code",
   "execution_count": 54,
   "metadata": {
    "collapsed": false
   },
   "outputs": [
    {
     "data": {
      "text/plain": [
       "4.4509497204145414e-09"
      ]
     },
     "execution_count": 54,
     "metadata": {},
     "output_type": "execute_result"
    }
   ],
   "source": [
    "distance(dW, dW_numeric)"
   ]
  },
  {
   "cell_type": "markdown",
   "metadata": {},
   "source": [
    "$$\n",
    "\\frac{\\delta \\mathcal{L}}{\\delta \\mathbf{b}} = \\\n",
    "\\frac{\\delta \\mathcal{L}}{\\delta \\mathbf{Z}} \\cdot \\frac{\\delta \\mathbf{Z}}{\\delta \\mathbf{b}} = \\\n",
    "\\frac{1}{m}(\\mathbf{\\hat{Y}} - \\mathbf{Y})\n",
    "$$"
   ]
  },
  {
   "cell_type": "code",
   "execution_count": 55,
   "metadata": {
    "collapsed": false
   },
   "outputs": [
    {
     "data": {
      "text/plain": [
       "array([[ 0.25049305,  0.25184463],\n",
       "       [-0.25313781,  0.24743008],\n",
       "       [ 0.25119032, -0.24797332]])"
      ]
     },
     "execution_count": 55,
     "metadata": {},
     "output_type": "execute_result"
    }
   ],
   "source": [
    "db = np.array(dZ)\n",
    "db"
   ]
  },
  {
   "cell_type": "code",
   "execution_count": 56,
   "metadata": {
    "collapsed": false
   },
   "outputs": [
    {
     "data": {
      "text/plain": [
       "array([[ 0.50233767],\n",
       "       [-0.00570773],\n",
       "       [ 0.00321699]])"
      ]
     },
     "execution_count": 56,
     "metadata": {},
     "output_type": "execute_result"
    }
   ],
   "source": [
    "db_numeric = numeric_gradient(b, lambda b: LOSS(Y, 1 / (1 + np.exp(-(np.dot(W,X) + b)))))\n",
    "db_numeric"
   ]
  },
  {
   "cell_type": "markdown",
   "metadata": {},
   "source": [
    "Problem, wrong shape"
   ]
  },
  {
   "cell_type": "code",
   "execution_count": 57,
   "metadata": {
    "collapsed": false
   },
   "outputs": [
    {
     "data": {
      "text/plain": [
       "array([[ 0.50233767],\n",
       "       [-0.00570773],\n",
       "       [ 0.00321699]])"
      ]
     },
     "execution_count": 57,
     "metadata": {},
     "output_type": "execute_result"
    }
   ],
   "source": [
    "db = np.sum(dZ, axis=1, keepdims=True)\n",
    "db"
   ]
  },
  {
   "cell_type": "code",
   "execution_count": 58,
   "metadata": {
    "collapsed": false
   },
   "outputs": [
    {
     "data": {
      "text/plain": [
       "1.4839322292588777e-09"
      ]
     },
     "execution_count": 58,
     "metadata": {},
     "output_type": "execute_result"
    }
   ],
   "source": [
    "distance(db, db_numeric)"
   ]
  },
  {
   "cell_type": "code",
   "execution_count": 59,
   "metadata": {
    "collapsed": false
   },
   "outputs": [
    {
     "name": "stdout",
     "output_type": "stream",
     "text": [
      "cost at iteration 0: 2.0749979796617715\n",
      "cost at iteration 100000: 0.5448999617856294\n",
      "cost at iteration 200000: 0.5400123291234756\n",
      "cost at iteration 300000: 0.5378009403791113\n",
      "cost at iteration 400000: 0.5365982864689621\n",
      "cost at iteration 500000: 0.5358710480078926\n",
      "cost at iteration 600000: 0.5354007763184792\n",
      "cost at iteration 700000: 0.5350824351478138\n",
      "cost at iteration 800000: 0.5348597183236192\n",
      "cost at iteration 900000: 0.5346999994193413\n",
      "cost at iteration 1000000.0: 0.5345832446202371\n"
     ]
    }
   ],
   "source": [
    "epochs = 1e6\n",
    "step_size = 1e-1\n",
    "_W = np.copy(W)\n",
    "_b = np.copy(b)\n",
    "\n",
    "def descent(X,Y,W,b, epochs, step_size):\n",
    "    for i in range(int(epochs)):\n",
    "        Z = np.dot(W,X) + b\n",
    "        A = 1 / (1+np.exp(-Z))\n",
    "\n",
    "        if (i % (epochs / 10) == 0): print(\"cost at iteration {}: {}\".format(i, LOSS(Y, A)))\n",
    "\n",
    "        dZ = (A - Y) / (Y.shape[1])\n",
    "        dW = np.dot(dZ, X.T)\n",
    "        db = np.sum(dZ, axis=1, keepdims=True)\n",
    "\n",
    "        W -= step_size * dW\n",
    "        b -= step_size * db\n",
    "        \n",
    "    print(\"cost at iteration {}: {}\".format(epochs, LOSS(Y, A)))\n",
    "\n",
    "    return W, b\n",
    "\n",
    "_W, _b = descent(train_x,train_y,_W,_b, epochs, step_size)"
   ]
  },
  {
   "cell_type": "code",
   "execution_count": 60,
   "metadata": {
    "collapsed": false
   },
   "outputs": [
    {
     "data": {
      "text/plain": [
       "array([[ 0.,  0.,  0.,  1.,  0.,  0.,  0.,  0.,  1.,  1.],\n",
       "       [ 1.,  0.,  0.,  0.,  0.,  0.,  1.,  0.,  0.,  0.],\n",
       "       [ 0.,  1.,  1.,  0.,  1.,  1.,  0.,  1.,  0.,  0.]])"
      ]
     },
     "execution_count": 60,
     "metadata": {},
     "output_type": "execute_result"
    }
   ],
   "source": [
    "train_y[:,:10]"
   ]
  },
  {
   "cell_type": "code",
   "execution_count": 61,
   "metadata": {
    "collapsed": false
   },
   "outputs": [
    {
     "data": {
      "text/plain": [
       "array([[ 0.,  0.,  0.,  1.,  0.,  0.,  0.,  0.,  1.,  1.],\n",
       "       [ 0.,  1.,  0.,  0.,  1.,  0.,  0.,  1.,  0.,  0.],\n",
       "       [ 0.,  1.,  1.,  0.,  1.,  1.,  0.,  1.,  0.,  0.]])"
      ]
     },
     "execution_count": 61,
     "metadata": {},
     "output_type": "execute_result"
    }
   ],
   "source": [
    "yHat = 1 / (1+np.exp(-(np.dot(_W,train_x) + _b)))\n",
    "np.round(yHat[:,:10])"
   ]
  },
  {
   "cell_type": "code",
   "execution_count": 62,
   "metadata": {
    "collapsed": false
   },
   "outputs": [
    {
     "name": "stdout",
     "output_type": "stream",
     "text": [
      "Training Accuracy: 0.9732142857142857\n",
      "Test Accuracy: 0.9736842105263158\n"
     ]
    }
   ],
   "source": [
    "training_accuracy = np.mean(np.argmax(train_y, axis=0) == np.argmax(yHat, axis=0))\n",
    "\n",
    "yHat_test = 1 / (1+np.exp(-(np.dot(_W,test_x) + _b)))\n",
    "test_accuracy = np.mean(np.argmax(test_y, axis=0) == np.argmax(yHat_test, axis=0))\n",
    "\n",
    "print(\"Training Accuracy: {}\".format(training_accuracy))\n",
    "print(\"Test Accuracy: {}\".format(test_accuracy))"
   ]
  },
  {
   "cell_type": "markdown",
   "metadata": {
    "deletable": true,
    "editable": true
   },
   "source": [
    "# Hidden layer with ReLU"
   ]
  },
  {
   "cell_type": "markdown",
   "metadata": {
    "collapsed": true,
    "deletable": true,
    "editable": true
   },
   "source": [
    "$$\n",
    "\\mathbf{Z}^{[1]} = \\mathbf{W}^{[1]}\\mathbf{X} + \\mathbf{b}^{[1]}\n",
    "$$"
   ]
  },
  {
   "cell_type": "code",
   "execution_count": 63,
   "metadata": {
    "collapsed": false
   },
   "outputs": [
    {
     "data": {
      "text/plain": [
       "(4, 5, 3)"
      ]
     },
     "execution_count": 63,
     "metadata": {},
     "output_type": "execute_result"
    }
   ],
   "source": [
    "L0_nodes = X.shape[0]\n",
    "L1_nodes = 5\n",
    "L2_nodes = Y.shape[0]\n",
    "\n",
    "L0_nodes, L1_nodes, L2_nodes"
   ]
  },
  {
   "cell_type": "code",
   "execution_count": 64,
   "metadata": {
    "collapsed": false
   },
   "outputs": [
    {
     "data": {
      "text/plain": [
       "array([[ 0.00900856, -0.00683728, -0.0012289 , -0.00935769],\n",
       "       [-0.00267888,  0.00530355, -0.00691661, -0.00396754],\n",
       "       [-0.00687173, -0.00845206, -0.00671246, -0.00012665],\n",
       "       [-0.0111731 ,  0.00234416,  0.01659802,  0.00742044],\n",
       "       [-0.00191836, -0.00887629, -0.00747158,  0.01692455]])"
      ]
     },
     "execution_count": 64,
     "metadata": {},
     "output_type": "execute_result"
    }
   ],
   "source": [
    "W1 = np.random.randn(L1_nodes, L0_nodes) * 0.01\n",
    "W1"
   ]
  },
  {
   "cell_type": "code",
   "execution_count": 65,
   "metadata": {
    "collapsed": false
   },
   "outputs": [
    {
     "data": {
      "text/plain": [
       "array([[ 0.],\n",
       "       [ 0.],\n",
       "       [ 0.],\n",
       "       [ 0.],\n",
       "       [ 0.]])"
      ]
     },
     "execution_count": 65,
     "metadata": {},
     "output_type": "execute_result"
    }
   ],
   "source": [
    "b1 = np.zeros((L1_nodes, 1))\n",
    "b1"
   ]
  },
  {
   "cell_type": "code",
   "execution_count": 66,
   "metadata": {
    "collapsed": false
   },
   "outputs": [
    {
     "data": {
      "text/plain": [
       "array([[ 0.01972176,  0.01929267],\n",
       "       [-0.04033047, -0.0519475 ],\n",
       "       [-0.09939927, -0.10633095],\n",
       "       [ 0.02142003,  0.04062592],\n",
       "       [-0.04630538, -0.0479147 ]])"
      ]
     },
     "execution_count": 66,
     "metadata": {},
     "output_type": "execute_result"
    }
   ],
   "source": [
    "Z1 = np.dot(W1, X) + b1\n",
    "Z1"
   ]
  },
  {
   "cell_type": "markdown",
   "metadata": {},
   "source": [
    "$$\n",
    "\\mathbf{A}^{[1]} = \\text{ReLU}(\\mathbf{Z}^{[1]}) = \\max{(0, \\mathbf{Z}^{[1]})}\n",
    "$$"
   ]
  },
  {
   "cell_type": "code",
   "execution_count": 67,
   "metadata": {
    "collapsed": false
   },
   "outputs": [
    {
     "data": {
      "image/png": "[encoded data removed]",
      "text/plain": [
       "<matplotlib.figure.Figure at 0x108298048>"
      ]
     },
     "metadata": {},
     "output_type": "display_data"
    }
   ],
   "source": [
    "plt.plot(np.linspace(-5,5,100), np.maximum(np.linspace(-5,5,100), 0))\n",
    "plt.show()"
   ]
  },
  {
   "cell_type": "code",
   "execution_count": 68,
   "metadata": {
    "collapsed": false
   },
   "outputs": [
    {
     "data": {
      "text/plain": [
       "array([[ 0.01972176,  0.01929267],\n",
       "       [ 0.        ,  0.        ],\n",
       "       [ 0.        ,  0.        ],\n",
       "       [ 0.02142003,  0.04062592],\n",
       "       [ 0.        ,  0.        ]])"
      ]
     },
     "execution_count": 68,
     "metadata": {},
     "output_type": "execute_result"
    }
   ],
   "source": [
    "A1 = np.maximum(Z1, 0)\n",
    "A1"
   ]
  },
  {
   "cell_type": "markdown",
   "metadata": {},
   "source": [
    "$$\n",
    "\\mathbf{Z}^{[2]} = \\mathbf{W}^{[2]}\\mathbf{A}^{[1]} + \\mathbf{b}^{[2]}\n",
    "$$"
   ]
  },
  {
   "cell_type": "code",
   "execution_count": 69,
   "metadata": {
    "collapsed": false
   },
   "outputs": [
    {
     "data": {
      "text/plain": [
       "array([[ 0.00050808, -0.00636996,  0.00190915,  0.02100255,  0.00120159],\n",
       "       [ 0.00617203,  0.0030017 , -0.0035225 , -0.01142518, -0.00349343],\n",
       "       [-0.00208894,  0.00586623,  0.00838983,  0.00931102,  0.00285587]])"
      ]
     },
     "execution_count": 69,
     "metadata": {},
     "output_type": "execute_result"
    }
   ],
   "source": [
    "W2 = np.random.randn(L2_nodes, L1_nodes) * 0.01\n",
    "W2"
   ]
  },
  {
   "cell_type": "code",
   "execution_count": 70,
   "metadata": {
    "collapsed": false
   },
   "outputs": [
    {
     "data": {
      "text/plain": [
       "array([[ 0.],\n",
       "       [ 0.],\n",
       "       [ 0.]])"
      ]
     },
     "execution_count": 70,
     "metadata": {},
     "output_type": "execute_result"
    }
   ],
   "source": [
    "b2 = np.zeros((L2_nodes, 1))\n",
    "b2"
   ]
  },
  {
   "cell_type": "code",
   "execution_count": 71,
   "metadata": {
    "collapsed": false
   },
   "outputs": [
    {
     "data": {
      "text/plain": [
       "array([[ 0.0004599 ,  0.00086305],\n",
       "       [-0.000123  , -0.00034508],\n",
       "       [ 0.00015824,  0.00033797]])"
      ]
     },
     "execution_count": 71,
     "metadata": {},
     "output_type": "execute_result"
    }
   ],
   "source": [
    "Z2 = np.dot(W2, A1) + b2\n",
    "Z2"
   ]
  },
  {
   "cell_type": "markdown",
   "metadata": {},
   "source": [
    "$$\n",
    "\\mathbf{A}^{[2]} = \\sigma(\\mathbf{Z}^{[2]}) = \\frac{1}{1+e^{-\\mathbf{Z}^{[2]}}}\n",
    "$$"
   ]
  },
  {
   "cell_type": "code",
   "execution_count": 72,
   "metadata": {
    "collapsed": false
   },
   "outputs": [
    {
     "data": {
      "text/plain": [
       "array([[ 0.50011497,  0.50021576],\n",
       "       [ 0.49996925,  0.49991373],\n",
       "       [ 0.50003956,  0.50008449]])"
      ]
     },
     "execution_count": 72,
     "metadata": {},
     "output_type": "execute_result"
    }
   ],
   "source": [
    "A2 = 1 / (1 + np.exp(-Z2))\n",
    "A2"
   ]
  },
  {
   "cell_type": "markdown",
   "metadata": {},
   "source": [
    "$$\n",
    "\\mathcal{L} = -\\frac{1}{m} Y\\log{\\hat{Y}} -(1-Y)\\log{(1-\\hat{Y})}\n",
    "$$"
   ]
  },
  {
   "cell_type": "code",
   "execution_count": 73,
   "metadata": {
    "collapsed": false
   },
   "outputs": [
    {
     "data": {
      "text/plain": [
       "2.0796719044469447"
      ]
     },
     "execution_count": 73,
     "metadata": {},
     "output_type": "execute_result"
    }
   ],
   "source": [
    "LOSS(Y, A2)"
   ]
  },
  {
   "cell_type": "markdown",
   "metadata": {},
   "source": [
    "$$\n",
    "\\frac{\\delta \\mathcal{L}}{\\delta \\mathbf{W}^{[2]}} = \\\n",
    "\\frac{\\delta L}{\\delta \\mathbf{Z}^{[2]}} \\cdot \\frac{\\delta \\mathbf{Z}^{[2]}}{\\delta \\mathbf{W}^{[2]}} = \\\n",
    "\\frac{1}{m}(\\mathbf{A}^{[2]} - \\mathbf{Y})\\mathbf{A}^{[1]^T}\n",
    "$$"
   ]
  },
  {
   "cell_type": "code",
   "execution_count": 74,
   "metadata": {
    "collapsed": false
   },
   "outputs": [
    {
     "data": {
      "text/plain": [
       "array([[ 0.25005749,  0.25010788],\n",
       "       [-0.25001538,  0.24995686],\n",
       "       [ 0.25001978, -0.24995775]])"
      ]
     },
     "execution_count": 74,
     "metadata": {},
     "output_type": "execute_result"
    }
   ],
   "source": [
    "dZ2 = (1 / Y.shape[1]) * (A2 - Y)\n",
    "dZ2"
   ]
  },
  {
   "cell_type": "code",
   "execution_count": 75,
   "metadata": {
    "collapsed": false
   },
   "outputs": [
    {
     "data": {
      "text/plain": [
       "array([[ 0.00975682,  0.        ,  0.        ,  0.0155171 ,  0.        ],\n",
       "       [-0.00010841,  0.        ,  0.        ,  0.00479939,  0.        ],\n",
       "       [ 0.00010848,  0.        ,  0.        , -0.00479933,  0.        ]])"
      ]
     },
     "execution_count": 75,
     "metadata": {},
     "output_type": "execute_result"
    }
   ],
   "source": [
    "dW2 = np.dot(dZ2, A1.T)\n",
    "dW2"
   ]
  },
  {
   "cell_type": "code",
   "execution_count": 76,
   "metadata": {
    "collapsed": false
   },
   "outputs": [
    {
     "data": {
      "text/plain": [
       "array([[ 0.00975682,  0.        ,  0.        ,  0.0155171 ,  0.        ],\n",
       "       [-0.00010841,  0.        ,  0.        ,  0.00479939,  0.        ],\n",
       "       [ 0.00010848,  0.        ,  0.        , -0.00479933,  0.        ]])"
      ]
     },
     "execution_count": 76,
     "metadata": {},
     "output_type": "execute_result"
    }
   ],
   "source": [
    "dW2_numeric = numeric_gradient(W2, lambda W: LOSS(Y, 1 / (1 + np.exp(-(np.dot(W,A1) + b2)))))\n",
    "dW2_numeric"
   ]
  },
  {
   "cell_type": "code",
   "execution_count": 77,
   "metadata": {
    "collapsed": false
   },
   "outputs": [
    {
     "data": {
      "text/plain": [
       "3.9071113101281613e-09"
      ]
     },
     "execution_count": 77,
     "metadata": {},
     "output_type": "execute_result"
    }
   ],
   "source": [
    "distance(dW2, dW2_numeric)"
   ]
  },
  {
   "cell_type": "markdown",
   "metadata": {},
   "source": [
    "$$\n",
    "\\frac{\\delta \\mathcal{L}}{\\delta \\mathbf{b}^{[2]}} = \\\n",
    "\\frac{\\delta L}{\\delta \\mathbf{Z}^{[2]}} \\cdot \\frac{\\delta \\mathbf{Z}^{[2]}}{\\delta \\mathbf{b}^{[2]}} = \\\n",
    "\\frac{1}{m}(\\mathbf{A}^{[2]} - \\mathbf{Y})\n",
    "$$"
   ]
  },
  {
   "cell_type": "code",
   "execution_count": 78,
   "metadata": {
    "collapsed": false
   },
   "outputs": [
    {
     "data": {
      "text/plain": [
       "array([[  5.00165368e-01],\n",
       "       [ -5.85109954e-05],\n",
       "       [  6.20265278e-05]])"
      ]
     },
     "execution_count": 78,
     "metadata": {},
     "output_type": "execute_result"
    }
   ],
   "source": [
    "db2 = np.sum(dZ2, axis=1, keepdims=True)\n",
    "db2"
   ]
  },
  {
   "cell_type": "code",
   "execution_count": 79,
   "metadata": {
    "collapsed": false
   },
   "outputs": [
    {
     "data": {
      "text/plain": [
       "array([[  5.00165369e-01],\n",
       "       [ -5.85109738e-05],\n",
       "       [  6.20259399e-05]])"
      ]
     },
     "execution_count": 79,
     "metadata": {},
     "output_type": "execute_result"
    }
   ],
   "source": [
    "db2_numeric = numeric_gradient(b2, lambda b2: LOSS(Y, 1 / (1 + np.exp(-(np.dot(W2,A1) + b2)))))\n",
    "db2_numeric"
   ]
  },
  {
   "cell_type": "code",
   "execution_count": 80,
   "metadata": {
    "collapsed": false
   },
   "outputs": [
    {
     "data": {
      "text/plain": [
       "1.0995861353294133e-09"
      ]
     },
     "execution_count": 80,
     "metadata": {},
     "output_type": "execute_result"
    }
   ],
   "source": [
    "distance(db2, db2_numeric)"
   ]
  },
  {
   "cell_type": "markdown",
   "metadata": {},
   "source": [
    "$$\n",
    "\\frac{\\delta \\mathcal{L}}{\\delta \\mathbf{A}^{[1]}} = \\\n",
    "\\frac{\\delta L}{\\delta \\mathbf{Z}^{[2]}} \\cdot \\frac{\\delta \\mathbf{Z}^{[2]}}{\\delta \\mathbf{A}^{[1]}} = \\\n",
    "\\mathbf{W}^{[2]^T}\\frac{1}{m}(\\mathbf{A}^{[2]} - \\mathbf{Y})\n",
    "$$"
   ]
  },
  {
   "cell_type": "code",
   "execution_count": 81,
   "metadata": {
    "collapsed": false
   },
   "outputs": [
    {
     "data": {
      "text/plain": [
       "((5, 2), (3, 2), (3, 5))"
      ]
     },
     "execution_count": 81,
     "metadata": {},
     "output_type": "execute_result"
    }
   ],
   "source": [
    "A1.shape, dZ2.shape, W2.shape,"
   ]
  },
  {
   "cell_type": "code",
   "execution_count": 82,
   "metadata": {
    "collapsed": false,
    "scrolled": true
   },
   "outputs": [
    {
     "data": {
      "text/plain": [
       "array([[ -1.93833098e-03,   2.19196307e-03],\n",
       "       [ -8.76653243e-04,  -2.30919015e-03],\n",
       "       [  3.45570173e-03,  -2.50008210e-03],\n",
       "       [  1.04362558e-02,   6.97391078e-05],\n",
       "       [  1.88790178e-03,  -1.28652677e-03]])"
      ]
     },
     "execution_count": 82,
     "metadata": {},
     "output_type": "execute_result"
    }
   ],
   "source": [
    "dA1 = np.dot(W2.T, dZ2)\n",
    "dA1"
   ]
  },
  {
   "cell_type": "code",
   "execution_count": 83,
   "metadata": {
    "collapsed": false
   },
   "outputs": [
    {
     "data": {
      "text/plain": [
       "array([[ -1.93833172e-03,   2.19196439e-03],\n",
       "       [ -8.76649864e-04,  -2.30919062e-03],\n",
       "       [  3.45570239e-03,  -2.50008236e-03],\n",
       "       [  1.04362541e-02,   6.97397695e-05],\n",
       "       [  1.88790095e-03,  -1.28652644e-03]])"
      ]
     },
     "execution_count": 83,
     "metadata": {},
     "output_type": "execute_result"
    }
   ],
   "source": [
    "dA1_numeric = numeric_gradient(A1, lambda A1: LOSS(Y, 1 / (1 + np.exp(-(np.dot(W2,A1) + b2)))))\n",
    "dA1_numeric"
   ]
  },
  {
   "cell_type": "code",
   "execution_count": 84,
   "metadata": {
    "collapsed": false
   },
   "outputs": [
    {
     "data": {
      "text/plain": [
       "4.2960959561362194e-09"
      ]
     },
     "execution_count": 84,
     "metadata": {},
     "output_type": "execute_result"
    }
   ],
   "source": [
    "distance(dA1, dA1_numeric)"
   ]
  },
  {
   "cell_type": "markdown",
   "metadata": {},
   "source": [
    "$$\n",
    "\\frac{\\delta \\mathcal{L}}{\\delta \\mathbf{Z}^{[1]}} = \\\n",
    "\\frac{\\delta L}{\\delta \\mathbf{A}^{[1]}} \\cdot \\frac{\\delta \\mathbf{A}^{[1]}}{\\delta \\mathbf{Z}^{[1]}} = \\\n",
    "\\frac{\\delta L}{\\delta \\mathbf{A}^{[1]}} \\cdot \\frac{\\delta}{\\delta \\mathbf{Z}^{[1]}} \\\n",
    "\\Big[ \\max{(0, \\mathbf{Z}^{[1]})} \\Big]\n",
    "$$"
   ]
  },
  {
   "cell_type": "markdown",
   "metadata": {},
   "source": [
    "$$\n",
    "\\frac{\\delta}{\\delta \\mathbf{Z}^{[1]}} \\\n",
    "\\Big[ \\max{(0, \\mathbf{Z}^{[1]})} \\Big] = \\\n",
    "\\begin{cases}\n",
    "0 &\\quad\\text{if } \\mathbf{Z^{[1]}} < 0 \\\\ \n",
    "1 &\\quad\\text{if } \\mathbf{Z^{[1]}} >= 0\n",
    "\\end{cases}\n",
    "$$"
   ]
  },
  {
   "cell_type": "code",
   "execution_count": 85,
   "metadata": {
    "collapsed": false
   },
   "outputs": [
    {
     "data": {
      "text/plain": [
       "array([[ -1.93833098e-03,   2.19196307e-03],\n",
       "       [ -0.00000000e+00,  -0.00000000e+00],\n",
       "       [  0.00000000e+00,  -0.00000000e+00],\n",
       "       [  1.04362558e-02,   6.97391078e-05],\n",
       "       [  0.00000000e+00,  -0.00000000e+00]])"
      ]
     },
     "execution_count": 85,
     "metadata": {},
     "output_type": "execute_result"
    }
   ],
   "source": [
    "dZ1 = dA1 * np.array(Z1 >= 0, dtype=float)\n",
    "dZ1"
   ]
  },
  {
   "cell_type": "code",
   "execution_count": 86,
   "metadata": {
    "collapsed": false
   },
   "outputs": [
    {
     "data": {
      "text/plain": [
       "array([[ -1.93833172e-03,   2.19196439e-03],\n",
       "       [  0.00000000e+00,   0.00000000e+00],\n",
       "       [  0.00000000e+00,   0.00000000e+00],\n",
       "       [  1.04362541e-02,   6.97397695e-05],\n",
       "       [  0.00000000e+00,   0.00000000e+00]])"
      ]
     },
     "execution_count": 86,
     "metadata": {},
     "output_type": "execute_result"
    }
   ],
   "source": [
    "dZ1_numeric = numeric_gradient(Z1, lambda Z1: LOSS(Y, 1 / (1 + np.exp(-(np.dot(W2,np.maximum(Z1, 0)) + b2)))))\n",
    "dZ1_numeric"
   ]
  },
  {
   "cell_type": "code",
   "execution_count": 87,
   "metadata": {
    "collapsed": false
   },
   "outputs": [
    {
     "data": {
      "text/plain": [
       "2.3470716908607333e-09"
      ]
     },
     "execution_count": 87,
     "metadata": {},
     "output_type": "execute_result"
    }
   ],
   "source": [
    "distance(dZ1, dZ1_numeric)"
   ]
  },
  {
   "cell_type": "markdown",
   "metadata": {},
   "source": [
    "$$\n",
    "\\frac{\\delta \\mathcal{L}}{\\delta \\mathbf{W}^{[1]}} = \\\n",
    "\\frac{\\delta L}{\\delta \\mathbf{Z}^{[1]}} \\cdot \\frac{\\delta \\mathbf{Z}^{[1]}}{\\delta \\mathbf{W}^{[1]}} = \\\n",
    "\\frac{\\delta L}{\\delta \\mathbf{Z}^{[1]}} \\cdot \\mathbf{X}^T\n",
    "$$"
   ]
  },
  {
   "cell_type": "code",
   "execution_count": 88,
   "metadata": {
    "collapsed": false
   },
   "outputs": [
    {
     "data": {
      "text/plain": [
       "((5, 4), (5, 2), (4, 2))"
      ]
     },
     "execution_count": 88,
     "metadata": {},
     "output_type": "execute_result"
    }
   ],
   "source": [
    "W1.shape, dZ1.shape, X.shape, "
   ]
  },
  {
   "cell_type": "code",
   "execution_count": 89,
   "metadata": {
    "collapsed": false
   },
   "outputs": [
    {
     "data": {
      "text/plain": [
       "array([[  2.08700121e-03,   5.25809360e-05,   3.79706331e-03,\n",
       "          1.03803706e-03],\n",
       "       [  0.00000000e+00,   0.00000000e+00,   0.00000000e+00,\n",
       "          0.00000000e+00],\n",
       "       [  0.00000000e+00,   0.00000000e+00,   0.00000000e+00,\n",
       "          0.00000000e+00],\n",
       "       [  6.83029144e-02,   2.93958639e-02,   4.84112633e-02,\n",
       "          1.57799140e-02],\n",
       "       [  0.00000000e+00,   0.00000000e+00,   0.00000000e+00,\n",
       "          0.00000000e+00]])"
      ]
     },
     "execution_count": 89,
     "metadata": {},
     "output_type": "execute_result"
    }
   ],
   "source": [
    "dW1 = np.dot(dZ1,X.T)\n",
    "dW1"
   ]
  },
  {
   "cell_type": "code",
   "execution_count": 90,
   "metadata": {
    "collapsed": false
   },
   "outputs": [
    {
     "data": {
      "text/plain": [
       "array([[  2.08700168e-03,   5.25801624e-05,   3.79706266e-03,\n",
       "          1.03803854e-03],\n",
       "       [  0.00000000e+00,   0.00000000e+00,   0.00000000e+00,\n",
       "          0.00000000e+00],\n",
       "       [  0.00000000e+00,   0.00000000e+00,   0.00000000e+00,\n",
       "          0.00000000e+00],\n",
       "       [  6.83029144e-02,   2.93958635e-02,   4.84112639e-02,\n",
       "          1.57799129e-02],\n",
       "       [  0.00000000e+00,   0.00000000e+00,   0.00000000e+00,\n",
       "          0.00000000e+00]])"
      ]
     },
     "execution_count": 90,
     "metadata": {},
     "output_type": "execute_result"
    }
   ],
   "source": [
    "dW1_numeric = numeric_gradient(W1, lambda W1: LOSS(Y, 1 / (1 + np.exp(-(np.dot(W2,np.maximum((np.dot(W1,X) + b1), 0)) + b2)))))\n",
    "dW1_numeric"
   ]
  },
  {
   "cell_type": "code",
   "execution_count": 91,
   "metadata": {
    "collapsed": false
   },
   "outputs": [
    {
     "data": {
      "text/plain": [
       "2.2616587607253184e-09"
      ]
     },
     "execution_count": 91,
     "metadata": {},
     "output_type": "execute_result"
    }
   ],
   "source": [
    "distance(dW1, dW1_numeric)"
   ]
  },
  {
   "cell_type": "markdown",
   "metadata": {},
   "source": [
    "$$\n",
    "\\frac{\\delta \\mathcal{L}}{\\delta \\mathbf{b}^{[1]}} = \\\n",
    "\\frac{\\delta L}{\\delta \\mathbf{Z}^{[1]}} \\cdot \\frac{\\delta \\mathbf{Z}^{[1]}}{\\delta \\mathbf{b}^{[1]}} = \\\n",
    "\\frac{\\delta L}{\\delta \\mathbf{Z}^{[1]}}\n",
    "$$"
   ]
  },
  {
   "cell_type": "code",
   "execution_count": 92,
   "metadata": {
    "collapsed": false
   },
   "outputs": [
    {
     "data": {
      "text/plain": [
       "array([[ 0.00025363],\n",
       "       [ 0.        ],\n",
       "       [ 0.        ],\n",
       "       [ 0.01050599],\n",
       "       [ 0.        ]])"
      ]
     },
     "execution_count": 92,
     "metadata": {},
     "output_type": "execute_result"
    }
   ],
   "source": [
    "db1 = np.sum(dZ1, axis=1, keepdims=True)\n",
    "db1"
   ]
  },
  {
   "cell_type": "code",
   "execution_count": 93,
   "metadata": {
    "collapsed": false
   },
   "outputs": [
    {
     "data": {
      "text/plain": [
       "array([[ 0.00025363],\n",
       "       [ 0.        ],\n",
       "       [ 0.        ],\n",
       "       [ 0.010506  ],\n",
       "       [ 0.        ]])"
      ]
     },
     "execution_count": 93,
     "metadata": {},
     "output_type": "execute_result"
    }
   ],
   "source": [
    "db1_numeric = numeric_gradient(b1, lambda b1: LOSS(Y, 1 / (1 + np.exp(-(np.dot(W2,np.maximum((np.dot(W1,X) + b1), 0)) + b2)))))\n",
    "db1_numeric"
   ]
  },
  {
   "cell_type": "code",
   "execution_count": 94,
   "metadata": {
    "collapsed": false
   },
   "outputs": [
    {
     "data": {
      "text/plain": [
       "1.338965817850446e-09"
      ]
     },
     "execution_count": 94,
     "metadata": {},
     "output_type": "execute_result"
    }
   ],
   "source": [
    "distance(db1, db1_numeric)"
   ]
  },
  {
   "cell_type": "code",
   "execution_count": 95,
   "metadata": {
    "collapsed": false
   },
   "outputs": [
    {
     "name": "stdout",
     "output_type": "stream",
     "text": [
      "cost at iteration 0: 2.0795796401879154\n",
      "cost at iteration 100000: 0.09898576767593914\n",
      "cost at iteration 200000: 0.09829451852201666\n",
      "cost at iteration 300000: 0.09825865334561558\n",
      "cost at iteration 400000: 0.0982397567699389\n",
      "cost at iteration 500000: 0.09822791187010155\n",
      "cost at iteration 600000: 0.09821984111738503\n",
      "cost at iteration 700000: 0.09821404043461865\n",
      "cost at iteration 800000: 0.09820961442362983\n",
      "cost at iteration 900000: 0.0982061743885833\n",
      "cost at iteration 1000000.0: 0.09820343030826469\n"
     ]
    }
   ],
   "source": [
    "epochs = 1e6\n",
    "step_size = 1e-1\n",
    "\n",
    "_W1 = np.copy(W1)\n",
    "_b1 = np.copy(b1)\n",
    "\n",
    "_W2 = np.copy(W2)\n",
    "_b2 = np.copy(b2)\n",
    "\n",
    "\n",
    "def two_layer_descent(X,Y,W2,b2,W1,b1, epochs, step_size):\n",
    "    for i in range(int(epochs)):\n",
    "        Z1 = np.dot(W1,X) + b1\n",
    "        A1 = np.maximum(0, Z1)\n",
    "\n",
    "        Z2 = np.dot(W2,A1) + b2\n",
    "        A2 = 1 / (1 + np.exp(-Z2))\n",
    "        \n",
    "        if (i % (epochs / 10) == 0): print(\"cost at iteration {}: {}\".format(i, LOSS(Y, A2)))\n",
    "\n",
    "        dZ2 = (A2 - Y) / Y.shape[1]\n",
    "        dW2 = np.dot(dZ2, A1.T)\n",
    "        db2 = np.sum(dZ2, axis=1, keepdims=True)\n",
    "\n",
    "        dA1 = np.dot(W2.T, dZ2)\n",
    "        dZ1 = dA1 * np.array(Z1 >= 0, dtype=float)\n",
    "        dW1 = np.dot(dZ1,X.T)\n",
    "        db1 = np.sum(dZ1, axis=1, keepdims=True)\n",
    "        \n",
    "        W2 -= step_size * dW2\n",
    "        b2 -= step_size * db2\n",
    "        W1 -= step_size * dW1\n",
    "        b1 -= step_size * db1\n",
    "        \n",
    "    print(\"cost at iteration {}: {}\".format(epochs, LOSS(Y, A2)))\n",
    "\n",
    "    return W2, b2, W1, b1\n",
    "\n",
    "_W2, _b2, _W1, _b1 = two_layer_descent(train_x,train_y,_W2,_b2,_W1,_b1, epochs, step_size)"
   ]
  },
  {
   "cell_type": "code",
   "execution_count": 96,
   "metadata": {
    "collapsed": false
   },
   "outputs": [
    {
     "name": "stdout",
     "output_type": "stream",
     "text": [
      "Training Accuracy: 0.9821428571428571\n",
      "Test Accuracy: 1.0\n"
     ]
    }
   ],
   "source": [
    "forward = lambda X, W1, b1, W2, b2: 1 / (1 + np.exp(-(np.dot(W2,np.maximum((np.dot(W1,X) + b1), 0)) + b2)))\n",
    "\n",
    "train_prediction = forward(train_x, _W1, _b1, _W2, _b2)\n",
    "test_prediction = forward(test_x, _W1, _b1, _W2, _b2)\n",
    "\n",
    "training_accuracy = np.mean(np.argmax(train_y, axis=0) == np.argmax(train_prediction, axis=0))\n",
    "test_accuracy = np.mean(np.argmax(test_y, axis=0) == np.argmax(test_prediction, axis=0))\n",
    "\n",
    "print(\"Training Accuracy: {}\".format(training_accuracy))\n",
    "print(\"Test Accuracy: {}\".format(test_accuracy))"
   ]
  },
  {
   "cell_type": "code",
   "execution_count": 97,
   "metadata": {
    "collapsed": false
   },
   "outputs": [
    {
     "data": {
      "text/plain": [
       "array([[ 0.,  0.,  0.,  1.,  0.,  0.,  0.,  0.,  1.,  1.],\n",
       "       [ 1.,  0.,  0.,  0.,  0.,  0.,  1.,  0.,  0.,  0.],\n",
       "       [ 0.,  1.,  1.,  0.,  1.,  1.,  0.,  1.,  0.,  0.]])"
      ]
     },
     "execution_count": 97,
     "metadata": {},
     "output_type": "execute_result"
    }
   ],
   "source": [
    "train_y[:,:10]"
   ]
  },
  {
   "cell_type": "code",
   "execution_count": 98,
   "metadata": {
    "collapsed": false
   },
   "outputs": [
    {
     "data": {
      "text/plain": [
       "array([[ 0.,  0.,  0.,  1.,  0.,  0.,  0.,  0.,  1.,  1.],\n",
       "       [ 1.,  0.,  0.,  0.,  0.,  0.,  1.,  0.,  0.,  0.],\n",
       "       [ 0.,  1.,  1.,  0.,  1.,  1.,  0.,  1.,  0.,  0.]])"
      ]
     },
     "execution_count": 98,
     "metadata": {},
     "output_type": "execute_result"
    }
   ],
   "source": [
    "np.round(train_prediction[:,:10])"
   ]
  },
  {
   "cell_type": "code",
   "execution_count": 99,
   "metadata": {
    "collapsed": false
   },
   "outputs": [
    {
     "data": {
      "text/plain": [
       "array([[ 1.,  0.,  0.,  1.,  0.,  0.,  0.,  1.,  1.,  0.],\n",
       "       [ 0.,  1.,  1.,  0.,  0.,  1.,  0.,  0.,  0.,  0.],\n",
       "       [ 0.,  0.,  0.,  0.,  1.,  0.,  1.,  0.,  0.,  1.]])"
      ]
     },
     "execution_count": 99,
     "metadata": {},
     "output_type": "execute_result"
    }
   ],
   "source": [
    "test_y[:,:10]"
   ]
  },
  {
   "cell_type": "code",
   "execution_count": 100,
   "metadata": {
    "collapsed": false
   },
   "outputs": [
    {
     "data": {
      "text/plain": [
       "array([[ 1.,  0.,  0.,  1.,  0.,  0.,  0.,  1.,  1.,  0.],\n",
       "       [ 0.,  1.,  1.,  0.,  0.,  1.,  0.,  0.,  0.,  0.],\n",
       "       [ 0.,  0.,  0.,  0.,  1.,  0.,  1.,  0.,  0.,  1.]])"
      ]
     },
     "execution_count": 100,
     "metadata": {},
     "output_type": "execute_result"
    }
   ],
   "source": [
    "np.round(test_prediction[:,:10])"
   ]
  }
 ],
 "metadata": {
  "kernelspec": {
   "display_name": "Python (tensorflow)",
   "language": "python",
   "name": "tensorflow"
  },
  "language_info": {
   "codemirror_mode": {
    "name": "ipython",
    "version": 3
   },
   "file_extension": ".py",
   "mimetype": "text/x-python",
   "name": "python",
   "nbconvert_exporter": "python",
   "pygments_lexer": "ipython3",
   "version": "3.5.1"
  }
 },
 "nbformat": 4,
 "nbformat_minor": 2
}
