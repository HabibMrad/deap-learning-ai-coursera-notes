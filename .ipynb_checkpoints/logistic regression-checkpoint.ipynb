{
 "cells": [
  {
   "cell_type": "markdown",
   "metadata": {
    "deletable": true,
    "editable": true
   },
   "source": [
    "# Logistic Regression for Classification of Digits\n",
    "\n",
    "I get pretty good results on 0 vs 1, implying that telling the difference between a \"0\" and a \"1\" is not a hard problem anymore. Also pretty epic results on predicting 0 through 9."
   ]
  },
  {
   "cell_type": "code",
   "execution_count": 1,
   "metadata": {
    "collapsed": true,
    "deletable": true,
    "editable": true
   },
   "outputs": [],
   "source": [
    "import numpy as np\n",
    "import matplotlib.pyplot as plt\n",
    "from sklearn.datasets import load_digits\n",
    "from sklearn.model_selection import train_test_split"
   ]
  },
  {
   "cell_type": "code",
   "execution_count": 2,
   "metadata": {
    "collapsed": false,
    "deletable": true,
    "editable": true
   },
   "outputs": [],
   "source": [
    "digits = load_digits(2)"
   ]
  },
  {
   "cell_type": "code",
   "execution_count": 3,
   "metadata": {
    "collapsed": false,
    "deletable": true,
    "editable": true
   },
   "outputs": [
    {
     "data": {
      "image/png": "[encoded data removed]",
      "text/plain": [
       "<matplotlib.figure.Figure at 0x108604ac8>"
      ]
     },
     "metadata": {},
     "output_type": "display_data"
    }
   ],
   "source": [
    "fig, axes = plt.subplots(nrows=1, ncols=9, figsize=(20,10))\n",
    "plt.gray()\n",
    "\n",
    "for i in range(9):\n",
    "    axes[i].imshow(digits.images[i])\n",
    "    axes[i].set_title(digits.target[i])\n",
    "\n",
    "plt.show()"
   ]
  },
  {
   "cell_type": "code",
   "execution_count": 4,
   "metadata": {
    "collapsed": false,
    "deletable": true,
    "editable": true
   },
   "outputs": [
    {
     "data": {
      "text/plain": [
       "((64, 270), (1, 270), (64, 90), (1, 90))"
      ]
     },
     "execution_count": 4,
     "metadata": {},
     "output_type": "execute_result"
    }
   ],
   "source": [
    "train_x, test_x, train_y, test_y = train_test_split(digits.images, digits.target)\n",
    "\n",
    "train_x, test_x = [x.reshape(x.shape[0], -1).T / 16 for x in [train_x, test_x]]\n",
    "train_y, test_y = [y.reshape(1, y.shape[0]) for y in [train_y, test_y]]\n",
    "\n",
    "train_x.shape, train_y.shape, test_x.shape, test_y.shape"
   ]
  },
  {
   "cell_type": "code",
   "execution_count": 5,
   "metadata": {
    "collapsed": false,
    "deletable": true,
    "editable": true
   },
   "outputs": [],
   "source": [
    "def gradient_descent(X, y, step_size, epochs):\n",
    "    w, b = np.random.randn(X.shape[0], 1), 0\n",
    "    \n",
    "    for i in range(epochs):\n",
    "        yhat = 1 / (1 + np.exp( - (np.dot(w.T, X) + b)))\n",
    "\n",
    "        if (i % (epochs/10) == 0):  print(\"Cost at iteration {}: {}\".format(i, -np.mean(y * np.log(yhat) + (1 - y) * np.log(1 - yhat))))\n",
    "\n",
    "        w = w - step_size * (1 / w.shape[0]) * np.dot(X, (yhat - y).T) \n",
    "        b = b - step_size * np.mean(yhat - y)\n",
    "\n",
    "    return w, b"
   ]
  },
  {
   "cell_type": "code",
   "execution_count": 6,
   "metadata": {
    "collapsed": false,
    "deletable": true,
    "editable": true
   },
   "outputs": [
    {
     "name": "stdout",
     "output_type": "stream",
     "text": [
      "Cost at iteration 0: 2.4401216178570317\n",
      "Cost at iteration 10000: 0.03170841319095779\n",
      "Cost at iteration 20000: 0.01737477651304169\n",
      "Cost at iteration 30000: 0.012198706251352399\n",
      "Cost at iteration 40000: 0.009466403471614078\n",
      "Cost at iteration 50000: 0.007762538809502362\n",
      "Cost at iteration 60000: 0.006593219276485362\n",
      "Cost at iteration 70000: 0.005738768014801082\n",
      "Cost at iteration 80000: 0.005085977976521272\n",
      "Cost at iteration 90000: 0.0045703673795715865\n",
      "Accuracy on train set: 100.0%\n",
      "Accuracy on test set: 100.0%\n"
     ]
    }
   ],
   "source": [
    "w, b = gradient_descent(train_x, train_y, 0.001, 100000)\n",
    "        \n",
    "predict = lambda X, w, b: np.array((1 / (1 + np.exp(-1 * (np.dot(w.T, X) + b)))) > 0.5, dtype=int)\n",
    "accuracy = lambda y, yhat: np.mean(y == yhat) * 100\n",
    "\n",
    "print(\"Accuracy on train set: {}%\".format(accuracy(train_y, predict(train_x,w,b))))\n",
    "print(\"Accuracy on test set: {}%\".format(accuracy(test_y, predict(test_x,w,b))))"
   ]
  },
  {
   "cell_type": "markdown",
   "metadata": {},
   "source": [
    "# Let's try predicting more than binary and try predict 0 through 9"
   ]
  },
  {
   "cell_type": "code",
   "execution_count": 7,
   "metadata": {
    "collapsed": false
   },
   "outputs": [
    {
     "data": {
      "image/png": "[encoded data removed]",
      "text/plain": [
       "<matplotlib.figure.Figure at 0x1083dfe80>"
      ]
     },
     "metadata": {},
     "output_type": "display_data"
    }
   ],
   "source": [
    "digits10 = load_digits(10)\n",
    "fig, axes = plt.subplots(nrows=1, ncols=10, figsize=(20,10))\n",
    "plt.gray()\n",
    "\n",
    "for i in range(10):\n",
    "    axes[i].imshow(digits10.images[i])\n",
    "    axes[i].set_title(digits10.target[i])\n",
    "\n",
    "plt.show()"
   ]
  },
  {
   "cell_type": "code",
   "execution_count": 8,
   "metadata": {
    "collapsed": false
   },
   "outputs": [],
   "source": [
    "# need to wrangle the data to vectors\n",
    "scale = digits10.images.max()\n",
    "\n",
    "# a matrix with each row representing the image, and \"normalized\" by dividing through max\n",
    "X = digits10.images.reshape(digits10.images.shape[0], -1) / scale\n",
    "\n",
    "# one hot encode the output\n",
    "y = np.zeros((len(digits10.target), 10))\n",
    "y[np.arange(len(digits10.target)), digits10.target] = 1"
   ]
  },
  {
   "cell_type": "code",
   "execution_count": 9,
   "metadata": {
    "collapsed": false
   },
   "outputs": [
    {
     "name": "stdout",
     "output_type": "stream",
     "text": [
      "(64, 1347) (10, 1347)\n",
      "(64, 450) (10, 450)\n"
     ]
    }
   ],
   "source": [
    "# for convenience, change X and y to be a matrix where each *column* represents the training input/output\n",
    "train_x, test_x, train_y, test_y = (np.array(set.T) for set in train_test_split(X, y))\n",
    "\n",
    "print(train_x.shape, train_y.shape)\n",
    "print(test_x.shape, test_y.shape)"
   ]
  },
  {
   "cell_type": "code",
   "execution_count": 10,
   "metadata": {
    "collapsed": false
   },
   "outputs": [
    {
     "name": "stdout",
     "output_type": "stream",
     "text": [
      "10 64 1347\n"
     ]
    }
   ],
   "source": [
    "def dimensions(X,y): \n",
    "    '''\n",
    "    c = the number of classifications possible for each given ouput\n",
    "    D = the number of features\n",
    "    m = number of training samples\n",
    "    '''\n",
    "    c = y.shape[0]\n",
    "    D, m = X.shape\n",
    "    return c, D, m\n",
    "\n",
    "c, D, m = dimensions(train_x, train_y)\n",
    "print(c,D,m)"
   ]
  },
  {
   "cell_type": "markdown",
   "metadata": {},
   "source": [
    "$\\mathbf{z} = \\mathbf{w}^T\\mathbf{X} + \\mathbf{b}$\n",
    "\n",
    "$ \\mathbf{z} = \n",
    "\\\n",
    "\\begin{bmatrix} \\\n",
    "z_1^{(1)} & z_1^{(2)} & \\cdots & z_1^{(m)} \\\\\n",
    "z_2^{(1)} & z_2^{(2)} & \\cdots & z_2^{(m)} \\\\\n",
    "\\vdots & \\vdots &  \\ddots &  \\\\\n",
    "z_c^{(1)} & z_c^{(2)} &   & z_c^{(m)} \\\\\n",
    "\\end{bmatrix} \\\n",
    "= \\\n",
    "\\begin{bmatrix} \\\n",
    "w_{1,1} & w_{1,2} & \\cdots & w_{1,D} \\\\\n",
    "w_{2,1} & w_{2,2} & \\cdots & w_{2,D} \\\\\n",
    "\\vdots & \\vdots & \\ddots &  \\\\\n",
    "w_{c,1} & w_{c,2} &  & w_{c,D} \\\\\n",
    "\\end{bmatrix} \\\n",
    "\\\n",
    "\\begin{bmatrix} \\\n",
    "x_1^{(1)} & x_1^{(2)} & \\cdots & x_1^{(m)} \\\\\n",
    "x_2^{(1)} & x_2^{(2)} & \\cdots & x_2^{(m)} \\\\\n",
    "\\vdots & \\vdots &  \\ddots &  \\\\\n",
    "x_D^{(1)} & x_D^{(2)} &   & x_D^{(m)} \\\\\n",
    "\\end{bmatrix}\n",
    " + \\\n",
    "\\begin{bmatrix} \\\n",
    "b_1 \\\\\n",
    "b_2 \\\\\n",
    "\\vdots\\\\\n",
    "b_c \\\\\n",
    "\\end{bmatrix} $\n",
    "\n",
    "$ \\mathbf{\\hat{y}} = ({1 + e^{-\\mathbf{z}}})^{-1} $"
   ]
  },
  {
   "cell_type": "code",
   "execution_count": 11,
   "metadata": {
    "collapsed": false
   },
   "outputs": [],
   "source": [
    "# Initialize our weights and biases to zero\n",
    "w = np.zeros((D,c))\n",
    "b = np.zeros((c,1))"
   ]
  },
  {
   "cell_type": "code",
   "execution_count": 12,
   "metadata": {
    "collapsed": true
   },
   "outputs": [],
   "source": [
    "z = lambda w,X,b: np.dot(w.T, X) + b\n",
    "yHat = lambda z: 1 / (1 + np.exp(-z))"
   ]
  },
  {
   "cell_type": "markdown",
   "metadata": {},
   "source": [
    "$ \\mathcal{L}( \\mathbf{y}^{(i)}, \\mathbf{\\hat{y}}^{(i)}) = -(\\\n",
    "\\mathbf{y}^{(i)} \\cdot \\ln{\\mathbf{\\hat{y}}^{(i)}} + \\\n",
    "(1 - \\mathbf{y}^{(i)}) \\cdot \\ln{(1 - \\mathbf{\\hat{y}}^{(i)})})\n",
    "$\n",
    "\n",
    "$\n",
    "\\mathbf{J} = -\\frac{1}{m} \\sum_i^m \\mathcal{L}( \\mathbf{y}^{(i)}, \\mathbf{\\hat{y}}^{(i)})\n",
    "$"
   ]
  },
  {
   "cell_type": "code",
   "execution_count": 13,
   "metadata": {
    "collapsed": true
   },
   "outputs": [],
   "source": [
    "J = lambda y, yHat: -np.mean(y * np.log(yHat) + (1 - y) * np.log(1 - yHat))"
   ]
  },
  {
   "cell_type": "markdown",
   "metadata": {},
   "source": [
    "$$ \\frac{\\delta \\mathbf{J}}{\\delta \\mathbf{w}} = \\\n",
    "\\frac{\\delta \\mathbf{J}}{\\delta \\mathbf{\\hat{y}}} \\cdot \\\n",
    "\\frac{\\delta \\mathbf{\\hat{y}}}{\\delta \\mathbf{z}} \\cdot \\\n",
    "\\frac{\\delta \\mathbf{z}}{\\delta \\mathbf{w}}\n",
    "$$"
   ]
  },
  {
   "cell_type": "markdown",
   "metadata": {},
   "source": [
    "$$ \\frac{\\delta \\mathbf{J}}{\\delta \\mathbf{\\hat{y}}} = \\\n",
    "\\frac{-\\mathbf{y}}{\\mathbf{\\hat{y}}} + \\frac{1 - \\mathbf{y}}{1 - \\mathbf{\\hat{y}}}\n",
    "$$"
   ]
  },
  {
   "cell_type": "markdown",
   "metadata": {},
   "source": [
    "$$ \\frac{\\delta \\mathbf{\\hat{y}}}{\\delta \\mathbf{z}} = \\mathbf{\\hat{y}}(1 - \\mathbf{\\hat{y}})$$"
   ]
  },
  {
   "cell_type": "markdown",
   "metadata": {},
   "source": [
    "$$ \\frac{\\delta \\mathbf{\\hat{z}}}{\\delta \\mathbf{w}} = \\mathbf{X} $$"
   ]
  },
  {
   "cell_type": "markdown",
   "metadata": {},
   "source": [
    "$$ \\frac{\\delta \\mathbf{J}}{\\delta \\mathbf{w}} = \\\n",
    "\\frac{\\delta \\mathbf{J}}{\\delta \\mathbf{\\hat{y}}} \\cdot \\\n",
    "\\frac{\\delta \\mathbf{\\hat{y}}}{\\delta \\mathbf{z}} \\cdot \\\n",
    "\\frac{\\delta \\mathbf{z}}{\\delta \\mathbf{w}} = \\\n",
    "\\Big[\\frac{-\\mathbf{y}}{\\mathbf{\\hat{y}}} + \\frac{1 - \\mathbf{y}}{1 - \\mathbf{\\hat{y}}}\\Big] \\dot \\\n",
    "\\mathbf{\\hat{y}}(1 - \\mathbf{\\hat{y}}) \\cdot \\mathbf{X} = \\\n",
    "(\\mathbf{\\hat{y}} - \\mathbf{y}) \\cdot \\mathbf{X}\n",
    "$$"
   ]
  },
  {
   "cell_type": "code",
   "execution_count": 14,
   "metadata": {
    "collapsed": true
   },
   "outputs": [],
   "source": [
    "dJdw = lambda X, y, yHat: np.dot(X, (yHat - y).T) / len(X)\n",
    "dJdb = lambda y, yHat: np.mean(yHat - y, axis=1, keepdims=True)"
   ]
  },
  {
   "cell_type": "code",
   "execution_count": 15,
   "metadata": {
    "collapsed": false
   },
   "outputs": [],
   "source": [
    "a = yHat(z(w,train_x,b))\n",
    "assert(a.shape == train_y.shape)\n",
    "\n",
    "dw = dJdw(train_x, train_y, a)\n",
    "assert(dw.shape == w.shape)\n",
    "\n",
    "db = dJdb(train_y, a)\n",
    "assert(db.shape == b.shape)"
   ]
  },
  {
   "cell_type": "code",
   "execution_count": 16,
   "metadata": {
    "collapsed": false
   },
   "outputs": [],
   "source": [
    "epochs = 100000\n",
    "alpha = 0.001\n",
    "\n",
    "def descend(X, y, w, b):\n",
    "    \n",
    "    for i in range(epochs):\n",
    "        a = yHat(z(w,X,b))\n",
    "        \n",
    "        if (i % (epochs / 10) == 0): print(\"cost at iteration {}: {}\".format(i,J(y, a)))\n",
    "            \n",
    "        w = w - alpha * dJdw(X, y, a)\n",
    "        b = b - alpha * dJdb(y, a)\n",
    "    \n",
    "    return w, b"
   ]
  },
  {
   "cell_type": "code",
   "execution_count": 17,
   "metadata": {
    "collapsed": false
   },
   "outputs": [
    {
     "name": "stdout",
     "output_type": "stream",
     "text": [
      "cost at iteration 0: 0.6931471805599453\n",
      "cost at iteration 10000: 0.057414095020112216\n",
      "cost at iteration 20000: 0.04545212183435679\n",
      "cost at iteration 30000: 0.040094949749305775\n",
      "cost at iteration 40000: 0.03681075560552498\n",
      "cost at iteration 50000: 0.03450554954129363\n",
      "cost at iteration 60000: 0.032761605794235024\n",
      "cost at iteration 70000: 0.03137796066989168\n",
      "cost at iteration 80000: 0.030242994119979986\n",
      "cost at iteration 90000: 0.029288487996844744\n"
     ]
    }
   ],
   "source": [
    "c, D, m = dimensions(train_x, train_y)\n",
    "\n",
    "w = np.zeros((D,c))\n",
    "b = np.zeros((c,1))\n",
    "\n",
    "w, b = descend(train_x, train_y, w, b)"
   ]
  },
  {
   "cell_type": "code",
   "execution_count": 18,
   "metadata": {
    "collapsed": false
   },
   "outputs": [
    {
     "name": "stdout",
     "output_type": "stream",
     "text": [
      "Accuracy on train set: 98.21826280623608 %\n",
      "Accuracy on test set: 96.66666666666667%\n"
     ]
    }
   ],
   "source": [
    "accuracy = lambda y, yhat: np.mean(y.argmax(axis=0) == yhat.argmax(axis=0)) * 100\n",
    "\n",
    "print(\"Accuracy on train set: {} %\".format(accuracy(train_y, yHat(z(w,train_x,b)))))\n",
    "print(\"Accuracy on test set: {}%\".format(accuracy(test_y, yHat(z(w,test_x,b)))))"
   ]
  },
  {
   "cell_type": "code",
   "execution_count": 19,
   "metadata": {
    "collapsed": false
   },
   "outputs": [
    {
     "name": "stdout",
     "output_type": "stream",
     "text": [
      "3 3 True\n",
      "7 7 True\n",
      "0 0 True\n",
      "0 0 True\n",
      "9 9 True\n",
      "4 4 True\n",
      "3 3 True\n",
      "9 9 True\n",
      "5 5 True\n",
      "6 6 True\n",
      "3 3 True\n",
      "2 2 True\n",
      "1 1 True\n",
      "7 7 True\n",
      "4 4 True\n",
      "6 6 True\n",
      "2 2 True\n",
      "7 7 True\n",
      "9 9 True\n",
      "4 4 True\n"
     ]
    }
   ],
   "source": [
    "for sample in range(20):\n",
    "    actual = test_y.argmax(axis=0)[sample]\n",
    "    prediction = yHat(z(w,test_x,b)).argmax(axis=0)[sample] \n",
    "    print(actual, prediction, actual == prediction)"
   ]
  }
 ],
 "metadata": {
  "kernelspec": {
   "display_name": "Python (tensorflow)",
   "language": "python",
   "name": "tensorflow"
  },
  "language_info": {
   "codemirror_mode": {
    "name": "ipython",
    "version": 3
   },
   "file_extension": ".py",
   "mimetype": "text/x-python",
   "name": "python",
   "nbconvert_exporter": "python",
   "pygments_lexer": "ipython3",
   "version": "3.5.1"
  }
 },
 "nbformat": 4,
 "nbformat_minor": 2
}
