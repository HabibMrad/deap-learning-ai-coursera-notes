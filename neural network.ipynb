{
 "cells": [
  {
   "cell_type": "code",
   "execution_count": 61,
   "metadata": {
    "collapsed": true
   },
   "outputs": [],
   "source": [
    "import numpy as np\n",
    "from sklearn.datasets import load_iris\n",
    "from sklearn.model_selection import train_test_split\n",
    "import matplotlib.pyplot as plt"
   ]
  },
  {
   "cell_type": "code",
   "execution_count": 62,
   "metadata": {
    "collapsed": false
   },
   "outputs": [],
   "source": [
    "dataset = load_iris()"
   ]
  },
  {
   "cell_type": "code",
   "execution_count": 63,
   "metadata": {
    "collapsed": false
   },
   "outputs": [
    {
     "data": {
      "text/plain": [
       "((150, 4), (150, 3))"
      ]
     },
     "execution_count": 63,
     "metadata": {},
     "output_type": "execute_result"
    }
   ],
   "source": [
    "X = dataset['data']\n",
    "\n",
    "Y = np.zeros((len(dataset['target']), 3))\n",
    "Y[np.arange(len(dataset['target'])), dataset['target']] = 1\n",
    "\n",
    "X.shape, Y.shape"
   ]
  },
  {
   "cell_type": "code",
   "execution_count": 64,
   "metadata": {
    "collapsed": false
   },
   "outputs": [
    {
     "data": {
      "text/plain": [
       "[(4, 112), (4, 38), (3, 112), (3, 38)]"
      ]
     },
     "execution_count": 64,
     "metadata": {},
     "output_type": "execute_result"
    }
   ],
   "source": [
    "train_x, test_x, train_y, test_y = [np.array(M.T) for M in train_test_split(X, Y, random_state=1)]\n",
    "[m.shape for m in (train_x, test_x, train_y, test_y)]"
   ]
  },
  {
   "cell_type": "markdown",
   "metadata": {},
   "source": [
    "Shallow neural network, with one hidden layer and an output layer, using relu activation function for hidden layer and sigmoid activation for output layer."
   ]
  },
  {
   "cell_type": "markdown",
   "metadata": {},
   "source": [
    "$$\n",
    "\\mathbf{z} = \\mathbf{w}\\mathbf{x} + \\mathbf{b}\n",
    "$$\n",
    "\n",
    "$$\n",
    "\\mathbf{a} = \\frac{1}{1 + e^{-\\mathbf{z}}}\n",
    "$$"
   ]
  },
  {
   "cell_type": "code",
   "execution_count": 65,
   "metadata": {
    "collapsed": false
   },
   "outputs": [
    {
     "data": {
      "text/plain": [
       "array([[ 6.5],\n",
       "       [ 2.8],\n",
       "       [ 4.6],\n",
       "       [ 1.5]])"
      ]
     },
     "execution_count": 65,
     "metadata": {},
     "output_type": "execute_result"
    }
   ],
   "source": [
    "x = train_x[:,:1]\n",
    "x"
   ]
  },
  {
   "cell_type": "code",
   "execution_count": 66,
   "metadata": {
    "collapsed": false
   },
   "outputs": [
    {
     "data": {
      "text/plain": [
       "array([[ 0.],\n",
       "       [ 1.],\n",
       "       [ 0.]])"
      ]
     },
     "execution_count": 66,
     "metadata": {},
     "output_type": "execute_result"
    }
   ],
   "source": [
    "y = train_y[:,:1]\n",
    "y"
   ]
  },
  {
   "cell_type": "code",
   "execution_count": 67,
   "metadata": {
    "collapsed": false
   },
   "outputs": [
    {
     "data": {
      "text/plain": [
       "array([[ 1.62434536, -0.61175641, -0.52817175, -1.07296862],\n",
       "       [ 0.86540763, -2.3015387 ,  1.74481176, -0.7612069 ],\n",
       "       [ 0.3190391 , -0.24937038,  1.46210794, -2.06014071]])"
      ]
     },
     "execution_count": 67,
     "metadata": {},
     "output_type": "execute_result"
    }
   ],
   "source": [
    "np.random.seed(1)\n",
    "w = np.random.randn(y.shape[0], x.shape[0])\n",
    "w"
   ]
  },
  {
   "cell_type": "code",
   "execution_count": 156,
   "metadata": {
    "collapsed": false
   },
   "outputs": [
    {
     "data": {
      "text/plain": [
       "array([[ 0.],\n",
       "       [ 0.],\n",
       "       [ 0.]])"
      ]
     },
     "execution_count": 156,
     "metadata": {},
     "output_type": "execute_result"
    }
   ],
   "source": [
    "b = np.zeros((y.shape[0], 1))\n",
    "b"
   ]
  },
  {
   "cell_type": "code",
   "execution_count": 157,
   "metadata": {
    "collapsed": false
   },
   "outputs": [
    {
     "data": {
      "text/plain": [
       "array([[ 4.80628391],\n",
       "       [ 6.065165  ],\n",
       "       [ 5.01100252]])"
      ]
     },
     "execution_count": 157,
     "metadata": {},
     "output_type": "execute_result"
    }
   ],
   "source": [
    "z = np.dot(w,x) + b\n",
    "z"
   ]
  },
  {
   "cell_type": "markdown",
   "metadata": {},
   "source": [
    "$$\n",
    "\\mathbf{z} = \\\n",
    "\\mathbf{w}\\mathbf{x} + \\mathbf{b} = \\\n",
    "\\begin{bmatrix}\n",
    "1.62434536 & -0.61175641 & -0.52817175 & -1.07296862 \\\\\n",
    "0.86540763 & -2.3015387 & 1.74481176 & -0.7612069 \\\\\n",
    "0.3190391 & -0.24937038 & 1.46210794 & -2.06014071\n",
    "\\end{bmatrix} \\\n",
    "\\begin{bmatrix}\n",
    "6.5 \\\\ 2.8 \\\\ 4.6 \\\\ 1.5\n",
    "\\end{bmatrix} + \\\n",
    "\\begin{bmatrix}\n",
    "0 \\\\ 0 \\\\ 0\n",
    "\\end{bmatrix} = \\\n",
    "\\begin{bmatrix}\n",
    "4.80628391 \\\\ 6.065165 \\\\ 5.01100252\n",
    "\\end{bmatrix}\n",
    "$$"
   ]
  },
  {
   "cell_type": "markdown",
   "metadata": {},
   "source": [
    "$$\n",
    "a = g(\\mathbf{z}) = \\sigma(\\mathbf{z}) = \\frac{1}{1 + e^{-\\mathbf{z}}}\n",
    "$$"
   ]
  },
  {
   "cell_type": "code",
   "execution_count": 69,
   "metadata": {
    "collapsed": true
   },
   "outputs": [],
   "source": [
    "sigmoid = lambda z: 1 / (1 + np.exp(-z))"
   ]
  },
  {
   "cell_type": "code",
   "execution_count": 70,
   "metadata": {
    "collapsed": false
   },
   "outputs": [
    {
     "data": {
      "image/png": "[encoded data removed]",
      "text/plain": [
       "<matplotlib.figure.Figure at 0x107fc1518>"
      ]
     },
     "metadata": {},
     "output_type": "display_data"
    }
   ],
   "source": [
    "plt.plot(np.linspace(-5,5,100), sigmoid(np.linspace(-5,5,100)))\n",
    "plt.show()"
   ]
  },
  {
   "cell_type": "code",
   "execution_count": 71,
   "metadata": {
    "collapsed": false
   },
   "outputs": [
    {
     "data": {
      "text/plain": [
       "array([[ 0.99188815],\n",
       "       [ 0.99768301],\n",
       "       [ 0.9933799 ]])"
      ]
     },
     "execution_count": 71,
     "metadata": {},
     "output_type": "execute_result"
    }
   ],
   "source": [
    "yHat = sigmoid(z)\n",
    "yHat"
   ]
  },
  {
   "cell_type": "markdown",
   "metadata": {},
   "source": [
    "$$\n",
    "a = g(\\mathbf{z}) = \\sigma(\\mathbf{z}) = \\sigma \\Bigg( \\\n",
    "\\begin{bmatrix}\n",
    "4.80628391 \\\\ 6.065165 \\\\ 5.01100252\n",
    "\\end{bmatrix} \\Bigg) = \\\n",
    "\\begin{bmatrix}\n",
    "0.99188815 \\\\ 0.99768301 \\\\0.9933799\n",
    "\\end{bmatrix} \\neq \\\n",
    "\\begin{bmatrix}\n",
    "0.0 \\\\ 1.0 \\\\ 0.0\n",
    "\\end{bmatrix}\n",
    "$$"
   ]
  },
  {
   "cell_type": "markdown",
   "metadata": {},
   "source": [
    "$$\n",
    "\\mathcal{L}(\\mathbf{y}, \\mathbf{\\hat{y}}) = -\\sum_{i=1}^{c} \\mathbf{y}_i\\log{\\mathbf{\\hat{y}}_i} + (1-\\mathbf{y}_i)\\log{(1-\\mathbf{\\hat{y}}_i)}\n",
    "$$"
   ]
  },
  {
   "cell_type": "code",
   "execution_count": 72,
   "metadata": {
    "collapsed": false
   },
   "outputs": [],
   "source": [
    "loss = lambda y, yHat: -np.sum((y * np.log(yHat) + (1-y) * np.log(1-yHat)))"
   ]
  },
  {
   "cell_type": "code",
   "execution_count": 73,
   "metadata": {
    "collapsed": false
   },
   "outputs": [
    {
     "data": {
      "text/plain": [
       "2.1000100500604738e-05"
      ]
     },
     "execution_count": 73,
     "metadata": {},
     "output_type": "execute_result"
    }
   ],
   "source": [
    "# sanity check 1: should be small for close matches\n",
    "loss(y, np.array([0.00001,0.99999,0.000001]).reshape(3,1))"
   ]
  },
  {
   "cell_type": "code",
   "execution_count": 74,
   "metadata": {
    "collapsed": false
   },
   "outputs": [
    {
     "data": {
      "text/plain": [
       "36.841361487913829"
      ]
     },
     "execution_count": 74,
     "metadata": {},
     "output_type": "execute_result"
    }
   ],
   "source": [
    "# sanity check 2: should be large for poor matches\n",
    "loss(y, np.array([0.99999,0.000001,0.99999]).reshape(3,1))"
   ]
  },
  {
   "cell_type": "code",
   "execution_count": 75,
   "metadata": {
    "collapsed": false
   },
   "outputs": [
    {
     "data": {
      "text/plain": [
       "9.8343931585616957"
      ]
     },
     "execution_count": 75,
     "metadata": {},
     "output_type": "execute_result"
    }
   ],
   "source": [
    "loss(y, yHat)"
   ]
  },
  {
   "cell_type": "markdown",
   "metadata": {},
   "source": [
    "## Derivatives"
   ]
  },
  {
   "cell_type": "markdown",
   "metadata": {},
   "source": [
    "$$\n",
    "\\frac{\\delta \\mathcal{L}}{\\delta \\mathbf{w}} = \\\n",
    "\\frac{\\delta \\mathcal{L}}{\\delta \\mathbf{\\hat{y}}} \\cdot \\\n",
    "\\frac{\\delta \\mathbf{\\hat{y}}}{\\delta \\mathbf{z}} \\cdot \\frac{\\delta \\mathbf{z}}{\\delta \\mathbf{w}} \n",
    "$$\n",
    "\n",
    "$$\n",
    "\\frac{\\delta \\mathcal{L}}{\\delta \\mathbf{b}} = \\\n",
    "\\frac{\\delta \\mathcal{L}}{\\delta \\mathbf{\\hat{y}}} \\cdot \\\n",
    "\\frac{\\delta \\mathbf{\\hat{y}}}{\\delta z} \\cdot \\frac{\\delta z}{\\delta b} \n",
    "$$"
   ]
  },
  {
   "cell_type": "markdown",
   "metadata": {},
   "source": [
    "$$\n",
    "\\frac{\\delta \\mathcal{L}}{\\delta \\mathbf{\\hat{y}}} = \\\n",
    "\\frac{\\delta \\mathcal{L}}{\\delta \\mathbf{a}} = \\\n",
    "- \\frac{\\delta}{\\delta \\mathbf{a}} \\Big[ \\\n",
    "\\mathbf{y}\\log{\\mathbf{a}} + (1-\\mathbf{y})\\log{(1-\\mathbf{a})} \\\n",
    "\\Big]\n",
    "$$"
   ]
  },
  {
   "cell_type": "markdown",
   "metadata": {},
   "source": [
    "$$\n",
    "= \\frac{-\\mathbf{y}}{\\mathbf{\\hat{y}}} + \\frac{1-\\mathbf{y}}{1-\\mathbf{\\hat{y}}}\n",
    "$$"
   ]
  },
  {
   "cell_type": "markdown",
   "metadata": {},
   "source": [
    "## Derivative of Loss with respect to a"
   ]
  },
  {
   "cell_type": "code",
   "execution_count": 112,
   "metadata": {
    "collapsed": true
   },
   "outputs": [],
   "source": [
    "dLda = lambda y, yHat: - (y / yHat) + ((1-y) / (1-yHat))"
   ]
  },
  {
   "cell_type": "code",
   "execution_count": 113,
   "metadata": {
    "collapsed": false
   },
   "outputs": [
    {
     "data": {
      "text/plain": [
       "array([[ 123.27638239],\n",
       "       [  -1.00232237],\n",
       "       [ 151.05509388]])"
      ]
     },
     "execution_count": 113,
     "metadata": {},
     "output_type": "execute_result"
    }
   ],
   "source": [
    "da = dLda(y, yHat)\n",
    "da"
   ]
  },
  {
   "cell_type": "code",
   "execution_count": 114,
   "metadata": {
    "collapsed": false
   },
   "outputs": [],
   "source": [
    "def dLda_numeric(y, yHat):\n",
    "    numeric = np.zeros(yHat.shape)\n",
    "    epsilon = 1e-7\n",
    "    for i, row in enumerate(yHat):\n",
    "        for j, c in enumerate(row):\n",
    "            plus = np.copy(yHat)\n",
    "            minus = np.copy(yHat)\n",
    "            plus[i,j] += epsilon\n",
    "            minus[i,j] -= epsilon\n",
    "            numeric[i,j] = (loss(y, plus) - loss(y, minus)) / (2 * epsilon)\n",
    "    return numeric"
   ]
  },
  {
   "cell_type": "code",
   "execution_count": 115,
   "metadata": {
    "collapsed": false
   },
   "outputs": [
    {
     "data": {
      "text/plain": [
       "array([[ 123.27638233],\n",
       "       [  -1.00232238],\n",
       "       [ 151.05509381]])"
      ]
     },
     "execution_count": 115,
     "metadata": {},
     "output_type": "execute_result"
    }
   ],
   "source": [
    "da_numeric = dLda_numeric(y,yHat)\n",
    "da_numeric"
   ]
  },
  {
   "cell_type": "code",
   "execution_count": 121,
   "metadata": {
    "collapsed": false
   },
   "outputs": [],
   "source": [
    "distance = lambda a, b: np.sqrt(np.sum((a - b) ** 2))"
   ]
  },
  {
   "cell_type": "code",
   "execution_count": 123,
   "metadata": {
    "collapsed": false
   },
   "outputs": [
    {
     "data": {
      "text/plain": [
       "9.2303476194109719e-08"
      ]
     },
     "execution_count": 123,
     "metadata": {},
     "output_type": "execute_result"
    }
   ],
   "source": [
    "distance(da, da_numeric)"
   ]
  },
  {
   "cell_type": "markdown",
   "metadata": {},
   "source": [
    "## Derivative of Loss with respect to z"
   ]
  },
  {
   "cell_type": "markdown",
   "metadata": {},
   "source": [
    "$$\n",
    "\\frac{\\delta \\mathbf{\\hat{y}}}{\\delta \\mathbf{z}} = \\\n",
    "\\frac{\\delta}{\\delta \\mathbf{z}} \\sigma(\\mathbf{z}) = \\\n",
    "\\frac{\\delta}{\\delta \\mathbf{z}} \\Bigg( \\frac{1}{1 + e^{-\\mathbf{z}}} \\Bigg)\n",
    "$$"
   ]
  },
  {
   "cell_type": "markdown",
   "metadata": {},
   "source": [
    "$$\n",
    "= \\\n",
    "\\Big(\\frac{-1}{1 + e^{-\\mathbf{z}}}\\Big)^{2} \\cdot (e^{-\\mathbf{z}}) \\cdot -1 = \\\n",
    "\\frac{e^{-\\mathbf{z}}}{({1 + e^{-\\mathbf{z}}})^2} \n",
    "$$"
   ]
  },
  {
   "cell_type": "markdown",
   "metadata": {},
   "source": [
    "$$\n",
    "= \\frac{1 - 1 + e^{-\\mathbf{z}}}{(1 + e^{-\\mathbf{z}})(1 + e^{-\\mathbf{z}})}  = \\\n",
    "\\frac{1}{1 + e^{-\\mathbf{z}}} \\cdot \\frac{1 - 1 + e^{-\\mathbf{z}}}{1 + e^{-\\mathbf{z}}}\n",
    "$$"
   ]
  },
  {
   "cell_type": "markdown",
   "metadata": {},
   "source": [
    "$$\n",
    "= \\\n",
    "\\frac{1}{1 + e^{-\\mathbf{z}}} \\Big(\\frac{1}{1 + e^{-\\mathbf{z}}} - \\frac{1 + e^{-\\mathbf{z}}}{1 + e^{-\\mathbf{z}}}\\Big)\n",
    "$$"
   ]
  },
  {
   "cell_type": "markdown",
   "metadata": {},
   "source": [
    "$$\n",
    "= \\sigma(\\mathbf{z}) \\big(1-\\sigma(\\mathbf{z})\\big)\n",
    "$$\n",
    "\n",
    "$$\n",
    "= \\mathbf{\\hat{y}}(1-\\mathbf{\\hat{y}})\n",
    "$$"
   ]
  },
  {
   "cell_type": "markdown",
   "metadata": {},
   "source": [
    "now for the cool part:\n"
   ]
  },
  {
   "cell_type": "markdown",
   "metadata": {},
   "source": [
    "$$\n",
    "\\frac{\\delta \\mathcal{L}}{\\mathbf{z}} = \\\n",
    "\\frac{\\delta \\mathcal{L}}{\\delta \\mathbf{\\hat{y}}} \\cdot \\\n",
    "\\frac{\\delta \\mathbf{\\hat{y}}}{\\delta \\mathbf{z}}\n",
    "$$"
   ]
  },
  {
   "cell_type": "markdown",
   "metadata": {},
   "source": [
    "$$\n",
    "= \\Big( \\frac{-\\mathbf{y}}{\\mathbf{\\hat{y}}} + \\frac{1-\\mathbf{y}}{1-\\mathbf{\\hat{y}}} \\Big)\\\n",
    "\\mathbf{\\hat{y}}(1-\\mathbf{\\hat{y}})\n",
    "$$"
   ]
  },
  {
   "cell_type": "markdown",
   "metadata": {},
   "source": [
    "$$\n",
    "= \\Big(\\frac{-\\mathbf{y}(1-\\mathbf{\\hat{y}}) + \\mathbf{\\hat{y}}(1-\\mathbf{y})}{\\mathbf{\\hat{y}}(1-\\mathbf{\\hat{y}})} \\Big)\\\n",
    "\\mathbf{\\hat{y}}(1-\\mathbf{\\hat{y}})\n",
    "$$"
   ]
  },
  {
   "cell_type": "markdown",
   "metadata": {},
   "source": [
    "$$\n",
    "= -\\mathbf{y}(1-\\mathbf{\\hat{y}}) + \\mathbf{\\hat{y}}(1-\\mathbf{y}) \n",
    "$$"
   ]
  },
  {
   "cell_type": "markdown",
   "metadata": {},
   "source": [
    "$$\n",
    "= -\\mathbf{y}+\\mathbf{y}\\mathbf{\\hat{y}} + \\mathbf{\\hat{y}}-\\mathbf{\\hat{y}}\\mathbf{y}\n",
    "$$\n",
    "\n",
    "$$\n",
    "= \\mathbf{\\hat{y}} - \\mathbf{y}\n",
    "$$"
   ]
  },
  {
   "cell_type": "markdown",
   "metadata": {},
   "source": [
    "Awesome news: we don't even need the dLda! can compute both steps in the chain in a single step here. Boom."
   ]
  },
  {
   "cell_type": "code",
   "execution_count": 109,
   "metadata": {
    "collapsed": true
   },
   "outputs": [],
   "source": [
    "dLdz = lambda y, yHat: yHat - y"
   ]
  },
  {
   "cell_type": "code",
   "execution_count": 136,
   "metadata": {
    "collapsed": false
   },
   "outputs": [
    {
     "data": {
      "text/plain": [
       "array([[ 0.99188815],\n",
       "       [-0.00231699],\n",
       "       [ 0.9933799 ]])"
      ]
     },
     "execution_count": 136,
     "metadata": {},
     "output_type": "execute_result"
    }
   ],
   "source": [
    "dz = dLdz(y,yHat)\n",
    "dz"
   ]
  },
  {
   "cell_type": "code",
   "execution_count": 140,
   "metadata": {
    "collapsed": true
   },
   "outputs": [],
   "source": [
    "def dLdz_numeric(z, y, epsilon = 1e-7):\n",
    "    numeric = np.zeros(z.shape)\n",
    "    for i, row in enumerate(z):\n",
    "        for j, c in enumerate(row):\n",
    "            plus, minus = [np.copy(z), np.copy(z)]\n",
    "            plus[i,j] += epsilon\n",
    "            minus[i,j] -= epsilon\n",
    "            numeric[i,j] = (loss(y, sigmoid(plus)) - loss(y, sigmoid(minus))) / (2 * epsilon)\n",
    "    return numeric"
   ]
  },
  {
   "cell_type": "code",
   "execution_count": 141,
   "metadata": {
    "collapsed": false
   },
   "outputs": [
    {
     "data": {
      "text/plain": [
       "array([[ 0.99188821],\n",
       "       [-0.002317  ],\n",
       "       [ 0.99337994]])"
      ]
     },
     "execution_count": 141,
     "metadata": {},
     "output_type": "execute_result"
    }
   ],
   "source": [
    "dz_numeric = dLdz_numeric(z,y)\n",
    "dz_numeric"
   ]
  },
  {
   "cell_type": "code",
   "execution_count": 133,
   "metadata": {
    "collapsed": false
   },
   "outputs": [
    {
     "data": {
      "text/plain": [
       "7.2898331284372404e-08"
      ]
     },
     "execution_count": 133,
     "metadata": {},
     "output_type": "execute_result"
    }
   ],
   "source": [
    "distance(dz, dz_numeric) "
   ]
  },
  {
   "cell_type": "markdown",
   "metadata": {},
   "source": [
    "## Derivative of loss with respect to w"
   ]
  },
  {
   "cell_type": "markdown",
   "metadata": {},
   "source": [
    "$$\n",
    "\\frac{\\delta \\mathbf{z}}{\\delta \\mathbf{w}} = \\\n",
    "\\frac{\\delta}{\\delta \\mathbf{w}} \\mathbf{w}\\mathbf{x} + \\mathbf{b} = \\mathbf{x}\n",
    "$$"
   ]
  },
  {
   "cell_type": "markdown",
   "metadata": {},
   "source": [
    "$$\n",
    "\\frac{\\delta \\mathcal{L}}{\\delta \\mathbf{w}} = \\\n",
    "\\frac{\\delta \\mathcal{L}}{\\delta \\mathbf{z}} \\cdot \\frac{\\delta \\mathbf{z}}{\\delta \\mathbf{w}} = \\\n",
    "\\frac{\\delta \\mathcal{L}}{\\delta \\mathbf{z}} \\cdot \\mathbf{x}\n",
    "$$"
   ]
  },
  {
   "cell_type": "code",
   "execution_count": 145,
   "metadata": {
    "collapsed": false
   },
   "outputs": [
    {
     "data": {
      "text/plain": [
       "((3, 4), (3, 1), (4, 1))"
      ]
     },
     "execution_count": 145,
     "metadata": {},
     "output_type": "execute_result"
    }
   ],
   "source": [
    "w.shape, da.shape, x.shape, "
   ]
  },
  {
   "cell_type": "code",
   "execution_count": 160,
   "metadata": {
    "collapsed": true
   },
   "outputs": [],
   "source": [
    "# need to transpose the x to get the shapes correct\n",
    "dLdw = lambda dz, x: np.dot(dz, x.T)"
   ]
  },
  {
   "cell_type": "code",
   "execution_count": 161,
   "metadata": {
    "collapsed": false
   },
   "outputs": [
    {
     "data": {
      "text/plain": [
       "array([[  6.44727295e+00,   2.77728681e+00,   4.56268547e+00,\n",
       "          1.48783222e+00],\n",
       "       [ -1.50604601e-02,  -6.48758279e-03,  -1.06581717e-02,\n",
       "         -3.47549078e-03],\n",
       "       [  6.45696934e+00,   2.78146372e+00,   4.56954753e+00,\n",
       "          1.49006985e+00]])"
      ]
     },
     "execution_count": 161,
     "metadata": {},
     "output_type": "execute_result"
    }
   ],
   "source": [
    "dw = dLdw(dz, x)\n",
    "dw"
   ]
  },
  {
   "cell_type": "code",
   "execution_count": 164,
   "metadata": {
    "collapsed": true
   },
   "outputs": [],
   "source": [
    "def dLdw_numeric(w,b,x,y, epsilon = 1e-7):\n",
    "    numeric = np.zeros(w.shape)\n",
    "    for i in range(w.shape[0]):\n",
    "        for j in range(w.shape[1]):\n",
    "            plus, minus = [np.copy(w), np.copy(w)]\n",
    "            plus[i,j] += epsilon\n",
    "            minus[i,j] -= epsilon\n",
    "            numeric[i,j] = (loss(y, sigmoid(np.dot(plus,x) + b)) - loss(y, sigmoid(np.dot(minus,x) + b))) / (2 * epsilon)\n",
    "    return numeric"
   ]
  },
  {
   "cell_type": "code",
   "execution_count": 165,
   "metadata": {
    "collapsed": false
   },
   "outputs": [
    {
     "data": {
      "text/plain": [
       "array([[  6.44727294e+00,   2.77728668e+00,   4.56268543e+00,\n",
       "          1.48783227e+00],\n",
       "       [ -1.50604507e-02,  -6.48757492e-03,  -1.06581766e-02,\n",
       "         -3.47548657e-03],\n",
       "       [  6.45696936e+00,   2.78146365e+00,   4.56954752e+00,\n",
       "          1.49006977e+00]])"
      ]
     },
     "execution_count": 165,
     "metadata": {},
     "output_type": "execute_result"
    }
   ],
   "source": [
    "dw_numeric = dLdw_numeric(w,b,x,y)\n",
    "dw_numeric"
   ]
  },
  {
   "cell_type": "code",
   "execution_count": 166,
   "metadata": {
    "collapsed": false
   },
   "outputs": [
    {
     "data": {
      "text/plain": [
       "1.81564089107234e-07"
      ]
     },
     "execution_count": 166,
     "metadata": {},
     "output_type": "execute_result"
    }
   ],
   "source": [
    "distance(dw, dw_numeric) "
   ]
  },
  {
   "cell_type": "markdown",
   "metadata": {},
   "source": [
    "## Derivative of Loss with respect to b"
   ]
  },
  {
   "cell_type": "markdown",
   "metadata": {},
   "source": [
    "\n",
    "$$\n",
    "\\frac{\\delta \\mathbf{z}}{\\delta \\mathbf{b}} = \\\n",
    "\\frac{\\delta}{\\delta \\mathbf{b}} \\mathbf{w}\\mathbf{x} + \\mathbf{b} = 1\n",
    "$$"
   ]
  },
  {
   "cell_type": "markdown",
   "metadata": {},
   "source": [
    "$$\n",
    "\\frac{\\delta \\mathcal{L}}{\\delta \\mathbf{b}} = \\\n",
    "\\frac{\\delta \\mathcal{L}}{\\delta \\mathbf{z}} \\cdot \\frac{\\delta \\mathbf{z}}{\\delta \\mathbf{b}} = \\\n",
    "\\frac{\\delta \\mathcal{L}}{\\delta \\mathbf{z}}\n",
    "$$"
   ]
  },
  {
   "cell_type": "code",
   "execution_count": 167,
   "metadata": {
    "collapsed": true
   },
   "outputs": [],
   "source": [
    "dLdb = lambda dz: dz"
   ]
  },
  {
   "cell_type": "code",
   "execution_count": 168,
   "metadata": {
    "collapsed": false
   },
   "outputs": [
    {
     "data": {
      "text/plain": [
       "array([[ 0.99188815],\n",
       "       [-0.00231699],\n",
       "       [ 0.9933799 ]])"
      ]
     },
     "execution_count": 168,
     "metadata": {},
     "output_type": "execute_result"
    }
   ],
   "source": [
    "db = dLdb(dz)\n",
    "db"
   ]
  },
  {
   "cell_type": "code",
   "execution_count": 169,
   "metadata": {
    "collapsed": true
   },
   "outputs": [],
   "source": [
    "def dLdb_numeric(w,b,x,y, epsilon = 1e-7):\n",
    "    numeric = np.zeros(b.shape)\n",
    "    for i in range(b.shape[0]):\n",
    "        for j in range(b.shape[1]):\n",
    "            plus, minus = [np.copy(b), np.copy(b)]\n",
    "            plus[i,j] += epsilon\n",
    "            minus[i,j] -= epsilon\n",
    "            numeric[i,j] = (loss(y, sigmoid(np.dot(w,x) + plus)) - loss(y, sigmoid(np.dot(w,x) + minus))) / (2 * epsilon)\n",
    "    return numeric"
   ]
  },
  {
   "cell_type": "code",
   "execution_count": 170,
   "metadata": {
    "collapsed": false
   },
   "outputs": [
    {
     "data": {
      "text/plain": [
       "array([[ 0.99188821],\n",
       "       [-0.002317  ],\n",
       "       [ 0.99337994]])"
      ]
     },
     "execution_count": 170,
     "metadata": {},
     "output_type": "execute_result"
    }
   ],
   "source": [
    "db_numeric = dLdb_numeric(w,b,x,y)\n",
    "db_numeric"
   ]
  },
  {
   "cell_type": "code",
   "execution_count": 171,
   "metadata": {
    "collapsed": false
   },
   "outputs": [
    {
     "data": {
      "text/plain": [
       "7.2898331284372404e-08"
      ]
     },
     "execution_count": 171,
     "metadata": {},
     "output_type": "execute_result"
    }
   ],
   "source": [
    "distance(db, db_numeric)"
   ]
  },
  {
   "cell_type": "markdown",
   "metadata": {},
   "source": [
    "## Gradient decent"
   ]
  },
  {
   "cell_type": "code",
   "execution_count": 173,
   "metadata": {
    "collapsed": true
   },
   "outputs": [],
   "source": [
    "def forward(x,w,b):\n",
    "    z = np.dot(w,x) + b\n",
    "    a = sigmoid(z)\n",
    "    return z, a\n",
    "\n",
    "def backward(x, y, yhat):\n",
    "    dz = yhat - y\n",
    "    dw = np.dot(dz, x.T)\n",
    "    db = dz\n",
    "    return dw, db"
   ]
  },
  {
   "cell_type": "code",
   "execution_count": 184,
   "metadata": {
    "collapsed": false
   },
   "outputs": [
    {
     "name": "stdout",
     "output_type": "stream",
     "text": [
      "cost at iteration 0: 9.834393158561696\n",
      "cost at iteration 100: 0.002145277411514101\n",
      "cost at iteration 200: 0.0018418749490632118\n",
      "cost at iteration 300: 0.0016451870976112407\n",
      "cost at iteration 400: 0.001471482798500676\n",
      "cost at iteration 500: 0.0013176869921403098\n",
      "cost at iteration 600: 0.0011812120786826466\n",
      "cost at iteration 700: 0.00105986590493878\n",
      "cost at iteration 800: 0.0009517801162295505\n",
      "cost at iteration 900: 0.0008553536043709026\n"
     ]
    },
    {
     "data": {
      "text/plain": [
       "array([[ 0.],\n",
       "       [ 1.],\n",
       "       [ 0.]])"
      ]
     },
     "execution_count": 184,
     "metadata": {},
     "output_type": "execute_result"
    }
   ],
   "source": [
    "epochs = 1000\n",
    "alpha = 0.001\n",
    "_w = np.copy(w)\n",
    "_b = np.copy(b)\n",
    "for i in range(epochs):\n",
    "    z, a = forward(x,_w,_b)\n",
    "    dw, db = backward(x,y,a)\n",
    "    if (i % (epochs / 10) == 0): print(\"cost at iteration {}: {}\".format(i, loss(y,a)))\n",
    "    _w -= alpha * dw\n",
    "    _b -= alpha * da\n",
    "\n",
    "np.round(forward(x,_w,_b)[1])"
   ]
  },
  {
   "cell_type": "markdown",
   "metadata": {},
   "source": [
    "# Batch learning"
   ]
  },
  {
   "cell_type": "code",
   "execution_count": null,
   "metadata": {
    "collapsed": true
   },
   "outputs": [],
   "source": []
  },
  {
   "cell_type": "markdown",
   "metadata": {},
   "source": [
    "# Hidden layer with ReLU"
   ]
  },
  {
   "cell_type": "code",
   "execution_count": null,
   "metadata": {
    "collapsed": true
   },
   "outputs": [],
   "source": []
  }
 ],
 "metadata": {
  "kernelspec": {
   "display_name": "Python (tensorflow)",
   "language": "python",
   "name": "tensorflow"
  },
  "language_info": {
   "codemirror_mode": {
    "name": "ipython",
    "version": 3
   },
   "file_extension": ".py",
   "mimetype": "text/x-python",
   "name": "python",
   "nbconvert_exporter": "python",
   "pygments_lexer": "ipython3",
   "version": "3.5.1"
  }
 },
 "nbformat": 4,
 "nbformat_minor": 2
}
