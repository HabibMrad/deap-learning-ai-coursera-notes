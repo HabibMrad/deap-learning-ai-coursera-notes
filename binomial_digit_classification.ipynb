{
 "cells": [
  {
   "cell_type": "markdown",
   "metadata": {},
   "source": [
    "# Logistic Regression (binomial"
   ]
  },
  {
   "cell_type": "code",
   "execution_count": 74,
   "metadata": {
    "collapsed": true
   },
   "outputs": [],
   "source": [
    "import numpy as np\n",
    "import matplotlib.pyplot as plt\n",
    "from sklearn.datasets import load_digits\n",
    "from sklearn.model_selection import train_test_split"
   ]
  },
  {
   "cell_type": "code",
   "execution_count": 75,
   "metadata": {
    "collapsed": false
   },
   "outputs": [],
   "source": [
    "digits = load_digits(2)"
   ]
  },
  {
   "cell_type": "code",
   "execution_count": 95,
   "metadata": {
    "collapsed": false
   },
   "outputs": [
    {
     "data": {
      "image/png": "[encoded data removed]",
      "text/plain": [
       "<matplotlib.figure.Figure at 0x10940f3c8>"
      ]
     },
     "metadata": {},
     "output_type": "display_data"
    }
   ],
   "source": [
    "fig, axes = plt.subplots(nrows=1, ncols=9, figsize=(20,10))\n",
    "plt.gray()\n",
    "\n",
    "for i in range(9):\n",
    "    axes[i].imshow(digits.images[i])\n",
    "    axes[i].set_title(digits.target[i])\n",
    "\n",
    "\n",
    "plt.show()"
   ]
  },
  {
   "cell_type": "code",
   "execution_count": 97,
   "metadata": {
    "collapsed": false
   },
   "outputs": [
    {
     "data": {
      "text/plain": [
       "((64, 270), (1, 270), (64, 90), (1, 90))"
      ]
     },
     "execution_count": 97,
     "metadata": {},
     "output_type": "execute_result"
    }
   ],
   "source": [
    "train_x, test_x, train_y, test_y = train_test_split(digits.images, digits.target)\n",
    "\n",
    "train_x, test_x = [x.reshape(x.shape[0], -1).T for x in [train_x, test_x]]\n",
    "train_y, test_y = [y.reshape(1, y.shape[0]) for y in [train_y, test_y]]\n",
    "\n",
    "train_x.shape, train_y.shape, test_x.shape, test_y.shape"
   ]
  },
  {
   "cell_type": "code",
   "execution_count": 71,
   "metadata": {
    "collapsed": false
   },
   "outputs": [
    {
     "name": "stdout",
     "output_type": "stream",
     "text": [
      "Cost: 2.514011014852904\n",
      "Cost: 0.12000226825566779\n",
      "Cost: 0.0582254736613428\n",
      "Cost: 0.039050830802436355\n",
      "Cost: 0.02960417962274723\n",
      "Cost: 0.02394492153823072\n",
      "Cost: 0.020162437341940197\n",
      "Cost: 0.01744987453663046\n",
      "Cost: 0.015406286169687625\n",
      "Cost: 0.013809418326309006\n",
      "Accuracy on train set: 100.0%\n",
      "Accuracy on test set: 100.0%\n"
     ]
    }
   ],
   "source": [
    "m = train_x.shape[1]\n",
    "w = np.random.randn(train_x.shape[0], 1)\n",
    "b = 0\n",
    "X = train_x / 16\n",
    "Y = train_y\n",
    "alpha = 0.001\n",
    "\n",
    "for i in range(100000):\n",
    "    getYHat = lambda X, w: 1 / (1 + np.exp( - (np.dot(w.T, X) + b)))\n",
    "    getJ = lambda y, y_hat: -np.mean(y * np.log(y_hat) + (1 - y) * np.log(1 - y_hat))\n",
    "\n",
    "    Y_hat = getYHat(X, w)\n",
    "    J = getJ(Y, Y_hat)\n",
    "    if (i % 10000 == 0): \n",
    "        print(\"Cost: {}\".format(J))\n",
    "\n",
    "    dJdw = (1 / m) * np.dot(X, (Y_hat - Y).T) \n",
    "\n",
    "    dJdb = np.mean(Y_hat - Y)\n",
    "\n",
    "    w = w - alpha * dJdw\n",
    "    b = b - alpha * dJdb\n",
    "\n",
    "\n",
    "predict = lambda X, w, b: np.array((1 / (1 + np.exp(-1 * (np.dot(w.T, X) + b)))) > 0.5, dtype=int)\n",
    "accuracy = lambda y, y_hat: np.mean(y == y_hat) * 100\n",
    "\n",
    "print(\"Accuracy on train set: {}%\".format(accuracy(Y, predict(X,w,b))))\n",
    "print(\"Accuracy on test set: {}%\".format(accuracy(test_y, predict(test_x / 16,w,b))))"
   ]
  }
 ],
 "metadata": {
  "kernelspec": {
   "display_name": "Python (tensorflow)",
   "language": "python",
   "name": "tensorflow"
  },
  "language_info": {
   "codemirror_mode": {
    "name": "ipython",
    "version": 3
   },
   "file_extension": ".py",
   "mimetype": "text/x-python",
   "name": "python",
   "nbconvert_exporter": "python",
   "pygments_lexer": "ipython3",
   "version": "3.5.1"
  }
 },
 "nbformat": 4,
 "nbformat_minor": 2
}
